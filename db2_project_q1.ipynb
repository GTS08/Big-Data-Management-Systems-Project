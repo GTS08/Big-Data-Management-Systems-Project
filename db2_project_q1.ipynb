{
 "cells": [
  {
   "cell_type": "markdown",
   "id": "1d4f57b9",
   "metadata": {},
   "source": [
    "# Question 1"
   ]
  },
  {
   "cell_type": "markdown",
   "id": "88092709",
   "metadata": {},
   "source": [
    "## Initiate Spark"
   ]
  },
  {
   "cell_type": "code",
   "execution_count": 1,
   "id": "6a1ce091",
   "metadata": {},
   "outputs": [],
   "source": [
    "from pyspark.sql import SparkSession\n",
    "from sparkmeasure import StageMetrics\n",
    "from pyspark.sql.functions import lower\n",
    "\n",
    "# Create a new Spark Session\n",
    "spark = SparkSession \\\n",
    "    .builder \\\n",
    "    .appName(\"Movies\") \\\n",
    "    .config(\"spark.jars\", \"spark-measure_2.11-0.17.jar\") \\\n",
    "    .getOrCreate()\n",
    "\n",
    "# Create spark metrics object\n",
    "stagemetrics = StageMetrics(spark)"
   ]
  },
  {
   "cell_type": "code",
   "execution_count": 2,
   "id": "b539b66c",
   "metadata": {},
   "outputs": [
    {
     "data": {
      "text/html": [
       "\n",
       "            <div>\n",
       "                <p><b>SparkSession - in-memory</b></p>\n",
       "                \n",
       "        <div>\n",
       "            <p><b>SparkContext</b></p>\n",
       "\n",
       "            <p><a href=\"http://10.0.2.15:4040\">Spark UI</a></p>\n",
       "\n",
       "            <dl>\n",
       "              <dt>Version</dt>\n",
       "                <dd><code>v2.4.8</code></dd>\n",
       "              <dt>Master</dt>\n",
       "                <dd><code>local[*]</code></dd>\n",
       "              <dt>AppName</dt>\n",
       "                <dd><code>Movies</code></dd>\n",
       "            </dl>\n",
       "        </div>\n",
       "        \n",
       "            </div>\n",
       "        "
      ],
      "text/plain": [
       "<pyspark.sql.session.SparkSession at 0x7f7f0a739ac8>"
      ]
     },
     "execution_count": 2,
     "metadata": {},
     "output_type": "execute_result"
    }
   ],
   "source": [
    "spark"
   ]
  },
  {
   "cell_type": "markdown",
   "id": "99e12638",
   "metadata": {},
   "source": [
    "## Load Datasets To Dataframes"
   ]
  },
  {
   "cell_type": "markdown",
   "id": "7100fdec",
   "metadata": {},
   "source": [
    "### Movie Dataframe"
   ]
  },
  {
   "cell_type": "code",
   "execution_count": 47,
   "id": "5a05bee1",
   "metadata": {},
   "outputs": [],
   "source": [
    "movie_df = (spark.read\n",
    "            .format(\"csv\")\n",
    "            .option(\"header\", \"true\")\n",
    "            .option(\"delimiter\", \",\")\n",
    "            .option(\"inferSchema\", \"true\")\n",
    "            .load(\"datasets/movie.csv\")\n",
    "           )"
   ]
  },
  {
   "cell_type": "code",
   "execution_count": 4,
   "id": "24ea2515",
   "metadata": {},
   "outputs": [
    {
     "name": "stdout",
     "output_type": "stream",
     "text": [
      "+-------+--------------------+--------------------+\n",
      "|movieId|               title|              genres|\n",
      "+-------+--------------------+--------------------+\n",
      "|      1|    Toy Story (1995)|Adventure|Animati...|\n",
      "|      2|      Jumanji (1995)|Adventure|Childre...|\n",
      "|      3|Grumpier Old Men ...|      Comedy|Romance|\n",
      "|      4|Waiting to Exhale...|Comedy|Drama|Romance|\n",
      "|      5|Father of the Bri...|              Comedy|\n",
      "+-------+--------------------+--------------------+\n",
      "only showing top 5 rows\n",
      "\n"
     ]
    }
   ],
   "source": [
    "movie_df.show(5)"
   ]
  },
  {
   "cell_type": "markdown",
   "id": "4d0bdd23",
   "metadata": {},
   "source": [
    "### Rating Dataframe"
   ]
  },
  {
   "cell_type": "code",
   "execution_count": 50,
   "id": "ad6ae512",
   "metadata": {},
   "outputs": [],
   "source": [
    "rating_df = (spark.read\n",
    "            .format(\"csv\")\n",
    "            .option(\"header\", \"true\")\n",
    "            .option(\"delimiter\", \",\")\n",
    "            .option(\"inferSchema\", \"true\")\n",
    "            .load(\"datasets/rating.csv\")\n",
    "           )"
   ]
  },
  {
   "cell_type": "code",
   "execution_count": 51,
   "id": "71c31751",
   "metadata": {},
   "outputs": [
    {
     "name": "stdout",
     "output_type": "stream",
     "text": [
      "root\n",
      " |-- userId: integer (nullable = true)\n",
      " |-- movieId: integer (nullable = true)\n",
      " |-- rating: double (nullable = true)\n",
      " |-- timestamp: timestamp (nullable = true)\n",
      "\n"
     ]
    }
   ],
   "source": [
    "rating_df.printSchema()"
   ]
  },
  {
   "cell_type": "code",
   "execution_count": 6,
   "id": "169faf21",
   "metadata": {},
   "outputs": [
    {
     "name": "stdout",
     "output_type": "stream",
     "text": [
      "+------+-------+------+-------------------+\n",
      "|userId|movieId|rating|          timestamp|\n",
      "+------+-------+------+-------------------+\n",
      "|     1|      2|   3.5|2005-04-02 23:53:47|\n",
      "|     1|     29|   3.5|2005-04-02 23:31:16|\n",
      "|     1|     32|   3.5|2005-04-02 23:33:39|\n",
      "|     1|     47|   3.5|2005-04-02 23:32:07|\n",
      "|     1|     50|   3.5|2005-04-02 23:29:40|\n",
      "+------+-------+------+-------------------+\n",
      "only showing top 5 rows\n",
      "\n"
     ]
    }
   ],
   "source": [
    "rating_df.show(5)"
   ]
  },
  {
   "cell_type": "markdown",
   "id": "6e682663",
   "metadata": {},
   "source": [
    "### Tag Dataframe"
   ]
  },
  {
   "cell_type": "code",
   "execution_count": 48,
   "id": "382ffb43",
   "metadata": {},
   "outputs": [],
   "source": [
    "tag_df = (spark.read\n",
    "            .format(\"csv\")\n",
    "            .option(\"header\", \"true\")\n",
    "            .option(\"delimiter\", \",\")\n",
    "            .option(\"inferSchema\", \"true\") \n",
    "            .load(\"datasets/tag.csv\")\n",
    "           )"
   ]
  },
  {
   "cell_type": "code",
   "execution_count": 8,
   "id": "2e94c581",
   "metadata": {},
   "outputs": [
    {
     "name": "stdout",
     "output_type": "stream",
     "text": [
      "+------+-------+-------------+-------------------+\n",
      "|userId|movieId|          tag|          timestamp|\n",
      "+------+-------+-------------+-------------------+\n",
      "|    18|   4141|  Mark Waters|2009-04-24 18:19:40|\n",
      "|    65|    208|    dark hero|2013-05-10 01:41:18|\n",
      "|    65|    353|    dark hero|2013-05-10 01:41:19|\n",
      "|    65|    521|noir thriller|2013-05-10 01:39:43|\n",
      "|    65|    592|    dark hero|2013-05-10 01:41:18|\n",
      "+------+-------+-------------+-------------------+\n",
      "only showing top 5 rows\n",
      "\n"
     ]
    }
   ],
   "source": [
    "tag_df.show(5)"
   ]
  },
  {
   "cell_type": "markdown",
   "id": "d8c1460c",
   "metadata": {},
   "source": [
    "### Genome Tags Dataframe"
   ]
  },
  {
   "cell_type": "code",
   "execution_count": 49,
   "id": "e6dfdd2f",
   "metadata": {},
   "outputs": [],
   "source": [
    "genome_tags_df = (spark.read\n",
    "            .format(\"csv\")\n",
    "            .option(\"header\", \"true\")\n",
    "            .option(\"delimiter\", \",\")\n",
    "            .option(\"inferSchema\", \"true\") \n",
    "            .load(\"datasets/genome_tags.csv\")\n",
    "           )"
   ]
  },
  {
   "cell_type": "code",
   "execution_count": 10,
   "id": "b0437538",
   "metadata": {},
   "outputs": [
    {
     "name": "stdout",
     "output_type": "stream",
     "text": [
      "+-----+------------+\n",
      "|tagId|         tag|\n",
      "+-----+------------+\n",
      "|    1|         007|\n",
      "|    2|007 (series)|\n",
      "|    3|18th century|\n",
      "|    4|       1920s|\n",
      "|    5|       1930s|\n",
      "+-----+------------+\n",
      "only showing top 5 rows\n",
      "\n"
     ]
    }
   ],
   "source": [
    "genome_tags_df.show(5)"
   ]
  },
  {
   "cell_type": "markdown",
   "id": "d91b87b7",
   "metadata": {},
   "source": [
    "## Queries"
   ]
  },
  {
   "cell_type": "markdown",
   "id": "07484e61",
   "metadata": {},
   "source": [
    "### Query 1"
   ]
  },
  {
   "cell_type": "code",
   "execution_count": 11,
   "id": "4b573c08",
   "metadata": {},
   "outputs": [
    {
     "name": "stdout",
     "output_type": "stream",
     "text": [
      "elapsedTime => 36913 (37 s)\n"
     ]
    }
   ],
   "source": [
    "# Start measuring performance\n",
    "stagemetrics.begin()\n",
    "\n",
    "# Get the id of the movie \"Jumanji\"\n",
    "jumanji_id = movie_df.filter(movie_df.title.contains(\"Jumanji\")) \\\n",
    "            .select(\"movieId\") \\\n",
    "            .collect()[0][\"movieId\"]\n",
    "\n",
    "# Get the number of users that watched \"Jumanji\"\n",
    "watched_jumanji = rating_df.filter(rating_df[\"movieId\"] == jumanji_id) \\\n",
    "                 .count()\n",
    "\n",
    "# Stop measuring performance\n",
    "stagemetrics.end()\n",
    "\n",
    "# Print performance metrics\n",
    "print(stagemetrics.report().split('\\n')[6])"
   ]
  },
  {
   "cell_type": "code",
   "execution_count": 12,
   "id": "5c52d09e",
   "metadata": {},
   "outputs": [
    {
     "data": {
      "text/plain": [
       "22243"
      ]
     },
     "execution_count": 12,
     "metadata": {},
     "output_type": "execute_result"
    }
   ],
   "source": [
    "watched_jumanji"
   ]
  },
  {
   "cell_type": "markdown",
   "id": "75658047",
   "metadata": {},
   "source": [
    "### Query 2"
   ]
  },
  {
   "cell_type": "code",
   "execution_count": 52,
   "id": "621372b4",
   "metadata": {},
   "outputs": [
    {
     "name": "stdout",
     "output_type": "stream",
     "text": [
      "\n",
      "Scheduling mode = FIFO\n",
      "Spark Context default degree of parallelism = 4\n",
      " no data to report \n"
     ]
    }
   ],
   "source": [
    "# Start measuring performance\n",
    "stagemetrics.begin()\n",
    "\n",
    "# Get the movieIds with tags containing the word \"boring\"\n",
    "unique_boring_movieIds = tag_df.filter(lower(tag_df[\"tag\"]).contains(\"boring\")) \\\n",
    "                        .select(\"movieId\") \\\n",
    "                        .dropDuplicates()\n",
    "\n",
    "# Get the corresponding movie titles from movieIds in alphabetical order\n",
    "unique_boring_movie_titles = unique_boring_movieIds \\\n",
    "                            .join(movie_df, \"movieId\", \"inner\") \\\n",
    "                            .select(movie_df.title) \\\n",
    "                            .sort(movie_df.title)\n",
    "\n",
    "# Stop measuring performance\n",
    "stagemetrics.end()\n",
    "\n",
    "# Print performance metrics\n",
    "stagemetrics.print_report()\n",
    "#print(stagemetrics.report().split('\\n')[6])"
   ]
  },
  {
   "cell_type": "code",
   "execution_count": 53,
   "id": "ea96446d",
   "metadata": {},
   "outputs": [
    {
     "name": "stdout",
     "output_type": "stream",
     "text": [
      "+--------------------+\n",
      "|               title|\n",
      "+--------------------+\n",
      "|(500) Days of Sum...|\n",
      "|101 Reykjavik (10...|\n",
      "|12 Years a Slave ...|\n",
      "|         1408 (2007)|\n",
      "|1492: Conquest of...|\n",
      "+--------------------+\n",
      "only showing top 5 rows\n",
      "\n"
     ]
    }
   ],
   "source": [
    "unique_boring_movie_titles.show(5)"
   ]
  },
  {
   "cell_type": "markdown",
   "id": "993d862a",
   "metadata": {},
   "source": [
    "### Query 3"
   ]
  },
  {
   "cell_type": "code",
   "execution_count": 57,
   "id": "7dedc978",
   "metadata": {},
   "outputs": [
    {
     "name": "stdout",
     "output_type": "stream",
     "text": [
      "\n",
      "Scheduling mode = FIFO\n",
      "Spark Context default degree of parallelism = 4\n",
      " no data to report \n"
     ]
    }
   ],
   "source": [
    "# Start measuring performance\n",
    "stagemetrics.begin()\n",
    "\n",
    "# Get the userIds and movieIds with tags containing the word \"bollywood\"\n",
    "bollywood_userIds_movieIds = tag_df.filter(lower(tag_df[\"tag\"]).contains(\"bollywood\")) \\\n",
    "                                   .select([\"userId\", \"movieId\", \"tag\"])\n",
    "\n",
    "# Get all userIds and movieIds with rating above 3\n",
    "above_3_rating = rating_df.filter(rating_df.rating > 3) \\\n",
    "                          .select([\"userId\", \"movieId\", \"rating\"])\n",
    "\n",
    "# Inner join based on unique combination of userId and movieId\n",
    "query_3_result = bollywood_userIds_movieIds \\\n",
    "                .join(above_3_rating, [\"userId\", \"movieId\"], \"inner\") \\\n",
    "                .select(\"userId\") \\\n",
    "                .dropDuplicates() \\\n",
    "                .sort(above_3_rating.userId)\n",
    "\n",
    "# Stop measuring performance\n",
    "stagemetrics.end()\n",
    "\n",
    "# Print performance metrics\n",
    "stagemetrics.print_report()\n",
    "#print(stagemetrics.report().split('\\n')[6])"
   ]
  },
  {
   "cell_type": "code",
   "execution_count": 58,
   "id": "0c876d78",
   "metadata": {},
   "outputs": [
    {
     "name": "stdout",
     "output_type": "stream",
     "text": [
      "+------+\n",
      "|userId|\n",
      "+------+\n",
      "| 10573|\n",
      "| 19837|\n",
      "| 23333|\n",
      "| 25004|\n",
      "| 31338|\n",
      "+------+\n",
      "only showing top 5 rows\n",
      "\n"
     ]
    }
   ],
   "source": [
    "query_3_result.show(5)"
   ]
  },
  {
   "cell_type": "markdown",
   "id": "1d70ea3e",
   "metadata": {},
   "source": [
    " ### Query 4"
   ]
  },
  {
   "cell_type": "code",
   "execution_count": 124,
   "id": "12c0e380",
   "metadata": {
    "scrolled": true
   },
   "outputs": [
    {
     "name": "stdout",
     "output_type": "stream",
     "text": [
      "\n",
      "Scheduling mode = FIFO\n",
      "Spark Context default degree of parallelism = 4\n",
      " no data to report \n"
     ]
    }
   ],
   "source": [
    "from pyspark.sql.functions import lower, year\n",
    "\n",
    "# Start measuring performance\n",
    "stagemetrics.begin()\n",
    "\n",
    "with_year = rating_df.withColumn(\"year\", year(rating_df[\"timestamp\"])) \\\n",
    "            .groupBy([\"year\", \"movieId\"]) \\\n",
    "            .agg({\"rating\": \"mean\"}) \\\n",
    "            .sort([\"year\", \"avg(rating)\"], ascending = [True, False]) \\\n",
    "\n",
    "# Stop measuring performance\n",
    "stagemetrics.end()\n",
    "\n",
    "# Print performance metrics\n",
    "stagemetrics.print_report()\n",
    "#print(stagemetrics.report().split('\\n')[6])"
   ]
  },
  {
   "cell_type": "code",
   "execution_count": 125,
   "id": "fc7bf899",
   "metadata": {},
   "outputs": [
    {
     "name": "stdout",
     "output_type": "stream",
     "text": [
      "+----+-------+------------------+\n",
      "|year|movieId|       avg(rating)|\n",
      "+----+-------+------------------+\n",
      "|1995|     47|               5.0|\n",
      "|1995|   1176|               4.0|\n",
      "|1995|     21|               3.0|\n",
      "|1995|   1079|               3.0|\n",
      "|1996|   1384| 4.708333333333333|\n",
      "|1996|   1369| 4.538461538461538|\n",
      "|1996|   1148| 4.519774011299435|\n",
      "|1996|    527|4.5161642205474015|\n",
      "|1996|   1415|               4.5|\n",
      "|1996|   1400|               4.5|\n",
      "|1996|    720| 4.488428745432399|\n",
      "|1996|    318|4.4781818181818185|\n",
      "|1996|   1399| 4.388888888888889|\n",
      "|1996|    912| 4.386454183266932|\n",
      "|1996|    745| 4.369969040247678|\n",
      "|1996|   1198| 4.365409622886866|\n",
      "|1996|   1057| 4.357142857142857|\n",
      "|1996|    115| 4.333333333333333|\n",
      "|1996|   1404| 4.333333333333333|\n",
      "|1996|   1357| 4.328571428571428|\n",
      "|1996|    904| 4.306233062330623|\n",
      "|1996|    800| 4.306172839506173|\n",
      "|1996|   1397|               4.3|\n",
      "|1996|   1406|               4.3|\n",
      "|1996|     50| 4.299451969806638|\n",
      "|1996|   1133| 4.285714285714286|\n",
      "|1996|    778| 4.276825396825397|\n",
      "|1996|    593| 4.275244913338357|\n",
      "|1996|    923| 4.264705882352941|\n",
      "|1996|    110| 4.256417693981145|\n",
      "|1996|    908| 4.249097472924188|\n",
      "|1996|   1197|4.2317073170731705|\n",
      "|1996|   1183| 4.231060606060606|\n",
      "|1996|   1196| 4.228882833787466|\n",
      "|1996|    858| 4.224066390041494|\n",
      "|1996|   1368| 4.222222222222222|\n",
      "|1996|   1131|  4.22093023255814|\n",
      "|1996|    632| 4.219512195121951|\n",
      "|1996|   1392| 4.217391304347826|\n",
      "|1996|   1358| 4.217391304347826|\n",
      "|1996|   1398|4.2105263157894735|\n",
      "|1996|   1217| 4.202702702702703|\n",
      "|1996|   1401|               4.2|\n",
      "|1996|   1364|               4.2|\n",
      "|1996|   1207| 4.199288256227758|\n",
      "|1996|   1193|4.1945701357466065|\n",
      "|1996|   1223| 4.191780821917808|\n",
      "|1996|    750| 4.187234042553191|\n",
      "|1996|    608| 4.179874757071906|\n",
      "|1996|   1089| 4.178571428571429|\n",
      "+----+-------+------------------+\n",
      "only showing top 50 rows\n",
      "\n"
     ]
    }
   ],
   "source": [
    "with_year.show(50)"
   ]
  },
  {
   "cell_type": "code",
   "execution_count": null,
   "id": "dba56488",
   "metadata": {},
   "outputs": [],
   "source": []
  }
 ],
 "metadata": {
  "kernelspec": {
   "display_name": "Python 3",
   "language": "python",
   "name": "python3"
  },
  "language_info": {
   "codemirror_mode": {
    "name": "ipython",
    "version": 3
   },
   "file_extension": ".py",
   "mimetype": "text/x-python",
   "name": "python",
   "nbconvert_exporter": "python",
   "pygments_lexer": "ipython3",
   "version": "3.6.9"
  }
 },
 "nbformat": 4,
 "nbformat_minor": 5
}
