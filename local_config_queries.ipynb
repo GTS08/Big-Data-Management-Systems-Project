{
 "cells": [
  {
   "cell_type": "markdown",
   "id": "1d4f57b9",
   "metadata": {},
   "source": [
    "# Local Configuration"
   ]
  },
  {
   "cell_type": "markdown",
   "id": "88092709",
   "metadata": {},
   "source": [
    "## Initiate Spark"
   ]
  },
  {
   "cell_type": "code",
   "execution_count": 1,
   "id": "6a1ce091",
   "metadata": {},
   "outputs": [],
   "source": [
    "from pyspark.sql import SparkSession\n",
    "from sparkmeasure import StageMetrics\n",
    "from pyspark.sql.functions import *\n",
    "from pyspark.sql.window import Window\n",
    "\n",
    "# Create a new Spark Session\n",
    "spark = SparkSession \\\n",
    "       .builder \\\n",
    "       .master(\"local[4]\") \\\n",
    "       .appName(\"Movies\") \\\n",
    "       .config(\"spark.jars\", \"spark-measure_2.11-0.17.jar\") \\\n",
    "       .getOrCreate()\n",
    "\n",
    "# Create spark metrics object\n",
    "stagemetrics = StageMetrics(spark)"
   ]
  },
  {
   "cell_type": "code",
   "execution_count": 2,
   "id": "b539b66c",
   "metadata": {},
   "outputs": [
    {
     "data": {
      "text/html": [
       "\n",
       "            <div>\n",
       "                <p><b>SparkSession - in-memory</b></p>\n",
       "                \n",
       "        <div>\n",
       "            <p><b>SparkContext</b></p>\n",
       "\n",
       "            <p><a href=\"http://10.0.2.15:4040\">Spark UI</a></p>\n",
       "\n",
       "            <dl>\n",
       "              <dt>Version</dt>\n",
       "                <dd><code>v2.4.8</code></dd>\n",
       "              <dt>Master</dt>\n",
       "                <dd><code>local[4]</code></dd>\n",
       "              <dt>AppName</dt>\n",
       "                <dd><code>Movies</code></dd>\n",
       "            </dl>\n",
       "        </div>\n",
       "        \n",
       "            </div>\n",
       "        "
      ],
      "text/plain": [
       "<pyspark.sql.session.SparkSession at 0x7f4d7dea5cf8>"
      ]
     },
     "execution_count": 2,
     "metadata": {},
     "output_type": "execute_result"
    }
   ],
   "source": [
    "spark"
   ]
  },
  {
   "cell_type": "markdown",
   "id": "99e12638",
   "metadata": {},
   "source": [
    "## Load Datasets To Dataframes"
   ]
  },
  {
   "cell_type": "markdown",
   "id": "7100fdec",
   "metadata": {},
   "source": [
    "### Movie Dataframe"
   ]
  },
  {
   "cell_type": "code",
   "execution_count": 3,
   "id": "5a05bee1",
   "metadata": {},
   "outputs": [],
   "source": [
    "movie_df = (spark\n",
    "           .read\n",
    "           .format(\"csv\")\n",
    "           .option(\"header\", \"true\")\n",
    "           .option(\"delimiter\", \",\")\n",
    "           .option(\"inferSchema\", \"true\")\n",
    "           .load(\"datasets/movie.csv\")\n",
    "           )"
   ]
  },
  {
   "cell_type": "code",
   "execution_count": 4,
   "id": "7229b26c",
   "metadata": {},
   "outputs": [
    {
     "name": "stdout",
     "output_type": "stream",
     "text": [
      "root\n",
      " |-- movieId: integer (nullable = true)\n",
      " |-- title: string (nullable = true)\n",
      " |-- genres: string (nullable = true)\n",
      "\n"
     ]
    }
   ],
   "source": [
    "movie_df.printSchema()"
   ]
  },
  {
   "cell_type": "code",
   "execution_count": 5,
   "id": "24ea2515",
   "metadata": {},
   "outputs": [
    {
     "name": "stdout",
     "output_type": "stream",
     "text": [
      "+-------+--------------------+--------------------+\n",
      "|movieId|               title|              genres|\n",
      "+-------+--------------------+--------------------+\n",
      "|      1|    Toy Story (1995)|Adventure|Animati...|\n",
      "|      2|      Jumanji (1995)|Adventure|Childre...|\n",
      "|      3|Grumpier Old Men ...|      Comedy|Romance|\n",
      "|      4|Waiting to Exhale...|Comedy|Drama|Romance|\n",
      "|      5|Father of the Bri...|              Comedy|\n",
      "+-------+--------------------+--------------------+\n",
      "only showing top 5 rows\n",
      "\n"
     ]
    }
   ],
   "source": [
    "movie_df.show(5)"
   ]
  },
  {
   "cell_type": "markdown",
   "id": "4d0bdd23",
   "metadata": {},
   "source": [
    "### Rating Dataframe"
   ]
  },
  {
   "cell_type": "code",
   "execution_count": 6,
   "id": "ad6ae512",
   "metadata": {},
   "outputs": [],
   "source": [
    "rating_df = (spark\n",
    "            .read\n",
    "            .format(\"csv\")\n",
    "            .option(\"header\", \"true\")\n",
    "            .option(\"delimiter\", \",\")\n",
    "            .option(\"inferSchema\", \"true\")\n",
    "            .load(\"datasets/rating.csv\")\n",
    "            )"
   ]
  },
  {
   "cell_type": "code",
   "execution_count": 7,
   "id": "2ca221dd",
   "metadata": {},
   "outputs": [
    {
     "name": "stdout",
     "output_type": "stream",
     "text": [
      "root\n",
      " |-- userId: integer (nullable = true)\n",
      " |-- movieId: integer (nullable = true)\n",
      " |-- rating: double (nullable = true)\n",
      " |-- timestamp: timestamp (nullable = true)\n",
      "\n"
     ]
    }
   ],
   "source": [
    "rating_df.printSchema()"
   ]
  },
  {
   "cell_type": "code",
   "execution_count": 8,
   "id": "169faf21",
   "metadata": {},
   "outputs": [
    {
     "name": "stdout",
     "output_type": "stream",
     "text": [
      "+------+-------+------+-------------------+\n",
      "|userId|movieId|rating|          timestamp|\n",
      "+------+-------+------+-------------------+\n",
      "|     1|      2|   3.5|2005-04-02 23:53:47|\n",
      "|     1|     29|   3.5|2005-04-02 23:31:16|\n",
      "|     1|     32|   3.5|2005-04-02 23:33:39|\n",
      "|     1|     47|   3.5|2005-04-02 23:32:07|\n",
      "|     1|     50|   3.5|2005-04-02 23:29:40|\n",
      "+------+-------+------+-------------------+\n",
      "only showing top 5 rows\n",
      "\n"
     ]
    }
   ],
   "source": [
    "rating_df.show(5)"
   ]
  },
  {
   "cell_type": "markdown",
   "id": "6e682663",
   "metadata": {},
   "source": [
    "### Tag Dataframe"
   ]
  },
  {
   "cell_type": "code",
   "execution_count": 9,
   "id": "382ffb43",
   "metadata": {},
   "outputs": [],
   "source": [
    "tag_df = (spark\n",
    "         .read\n",
    "         .format(\"csv\")\n",
    "         .option(\"header\", \"true\")\n",
    "         .option(\"delimiter\", \",\")\n",
    "         .option(\"inferSchema\", \"true\") \n",
    "         .load(\"datasets/tag.csv\")\n",
    "         )"
   ]
  },
  {
   "cell_type": "code",
   "execution_count": 10,
   "id": "db52efe2",
   "metadata": {},
   "outputs": [
    {
     "name": "stdout",
     "output_type": "stream",
     "text": [
      "root\n",
      " |-- userId: integer (nullable = true)\n",
      " |-- movieId: integer (nullable = true)\n",
      " |-- tag: string (nullable = true)\n",
      " |-- timestamp: timestamp (nullable = true)\n",
      "\n"
     ]
    }
   ],
   "source": [
    "tag_df.printSchema()"
   ]
  },
  {
   "cell_type": "code",
   "execution_count": 11,
   "id": "2e94c581",
   "metadata": {},
   "outputs": [
    {
     "name": "stdout",
     "output_type": "stream",
     "text": [
      "+------+-------+-------------+-------------------+\n",
      "|userId|movieId|          tag|          timestamp|\n",
      "+------+-------+-------------+-------------------+\n",
      "|    18|   4141|  Mark Waters|2009-04-24 18:19:40|\n",
      "|    65|    208|    dark hero|2013-05-10 01:41:18|\n",
      "|    65|    353|    dark hero|2013-05-10 01:41:19|\n",
      "|    65|    521|noir thriller|2013-05-10 01:39:43|\n",
      "|    65|    592|    dark hero|2013-05-10 01:41:18|\n",
      "+------+-------+-------------+-------------------+\n",
      "only showing top 5 rows\n",
      "\n"
     ]
    }
   ],
   "source": [
    "tag_df.show(5)"
   ]
  },
  {
   "cell_type": "markdown",
   "id": "d91b87b7",
   "metadata": {},
   "source": [
    "## Queries"
   ]
  },
  {
   "cell_type": "markdown",
   "id": "07484e61",
   "metadata": {},
   "source": [
    "### Query 1"
   ]
  },
  {
   "cell_type": "code",
   "execution_count": 12,
   "id": "4b573c08",
   "metadata": {},
   "outputs": [
    {
     "name": "stdout",
     "output_type": "stream",
     "text": [
      "+--------------+\n",
      "|count(movieId)|\n",
      "+--------------+\n",
      "|         22243|\n",
      "+--------------+\n",
      "\n",
      "elapsedTime => 16567 (17 s)\n"
     ]
    }
   ],
   "source": [
    "# Start measuring performance\n",
    "stagemetrics.begin()\n",
    "\n",
    "# Get the id of the movie \"Jumanji\"\n",
    "jumanji_id = movie_df \\\n",
    "            .filter(movie_df.title.contains(\"Jumanji\")) \\\n",
    "            .select(\"movieId\") \\\n",
    "            .collect()[0][\"movieId\"]\n",
    "\n",
    "# Get the number of users that watched \"Jumanji\"\n",
    "query_1_result = rating_df \\\n",
    "                .filter(rating_df[\"movieId\"] == jumanji_id) \\\n",
    "                .select(count(\"movieId\"))\n",
    "\n",
    "# Show result\n",
    "query_1_result.show()\n",
    "\n",
    "# Stop measuring performance\n",
    "stagemetrics.end()\n",
    "\n",
    "# Print performance metrics\n",
    "print(stagemetrics.report().split('\\n')[6])"
   ]
  },
  {
   "cell_type": "code",
   "execution_count": 13,
   "id": "5c52d09e",
   "metadata": {},
   "outputs": [
    {
     "name": "stdout",
     "output_type": "stream",
     "text": [
      "+--------------+\n",
      "|count(movieId)|\n",
      "+--------------+\n",
      "|         22243|\n",
      "+--------------+\n",
      "\n"
     ]
    }
   ],
   "source": [
    "# Show result for report\n",
    "query_1_result.show()"
   ]
  },
  {
   "cell_type": "markdown",
   "id": "75658047",
   "metadata": {},
   "source": [
    "### Query 2"
   ]
  },
  {
   "cell_type": "code",
   "execution_count": 14,
   "id": "621372b4",
   "metadata": {},
   "outputs": [
    {
     "name": "stdout",
     "output_type": "stream",
     "text": [
      "+--------------------+\n",
      "|               title|\n",
      "+--------------------+\n",
      "|(500) Days of Sum...|\n",
      "|101 Reykjavik (10...|\n",
      "|12 Years a Slave ...|\n",
      "|         1408 (2007)|\n",
      "|1492: Conquest of...|\n",
      "|2001: A Space Ody...|\n",
      "|2010: The Year We...|\n",
      "|         2046 (2004)|\n",
      "|     21 Grams (2003)|\n",
      "|24 Hour Party Peo...|\n",
      "|3-Iron (Bin-jip) ...|\n",
      "|40-Year-Old Virgi...|\n",
      "|    6 Bullets (2012)|\n",
      "| 633 Squadron (1964)|\n",
      "| 7 Plus Seven (1970)|\n",
      "|      8 Women (2002)|\n",
      "|A.I. Artificial I...|\n",
      "|  About a Boy (2002)|\n",
      "|According to Gret...|\n",
      "|   Adaptation (2002)|\n",
      "+--------------------+\n",
      "only showing top 20 rows\n",
      "\n",
      "elapsedTime => 3056 (3 s)\n"
     ]
    }
   ],
   "source": [
    "# Start measuring performance\n",
    "stagemetrics.begin()\n",
    "\n",
    "# Get the movieIds with tags containing the word \"boring\"\n",
    "unique_boring_movieIds = tag_df \\\n",
    "                        .filter(lower(tag_df[\"tag\"]).contains(\"boring\")) \\\n",
    "                        .select(\"movieId\") \\\n",
    "                        .dropDuplicates()\n",
    "\n",
    "# Get the corresponding movie titles from movieIds in alphabetical order\n",
    "query_2_results = unique_boring_movieIds \\\n",
    "                 .join(movie_df, \"movieId\", \"inner\") \\\n",
    "                 .select(movie_df.title) \\\n",
    "                 .sort(movie_df.title)\n",
    "\n",
    "# Show results\n",
    "query_2_results.show()\n",
    "\n",
    "# Stop measuring performance\n",
    "stagemetrics.end()\n",
    "\n",
    "# Print performance metrics\n",
    "print(stagemetrics.report().split('\\n')[6])"
   ]
  },
  {
   "cell_type": "code",
   "execution_count": 15,
   "id": "ea96446d",
   "metadata": {},
   "outputs": [
    {
     "name": "stdout",
     "output_type": "stream",
     "text": [
      "+------------------------------------+\n",
      "|                               title|\n",
      "+------------------------------------+\n",
      "|         (500) Days of Summer (2009)|\n",
      "|101 Reykjavik (101 Reykjavík) (2000)|\n",
      "|             12 Years a Slave (2013)|\n",
      "|                         1408 (2007)|\n",
      "|   1492: Conquest of Paradise (1992)|\n",
      "+------------------------------------+\n",
      "only showing top 5 rows\n",
      "\n"
     ]
    }
   ],
   "source": [
    "# Show results for report\n",
    "query_2_results.show(5, truncate = 50)"
   ]
  },
  {
   "cell_type": "markdown",
   "id": "33cb638d",
   "metadata": {},
   "source": [
    "### Query 3"
   ]
  },
  {
   "cell_type": "code",
   "execution_count": 16,
   "id": "c4541857",
   "metadata": {},
   "outputs": [
    {
     "name": "stdout",
     "output_type": "stream",
     "text": [
      "+------+\n",
      "|userId|\n",
      "+------+\n",
      "| 10573|\n",
      "| 19837|\n",
      "| 23333|\n",
      "| 25004|\n",
      "| 31338|\n",
      "| 33323|\n",
      "| 35170|\n",
      "| 40514|\n",
      "| 41165|\n",
      "| 48816|\n",
      "| 51539|\n",
      "| 54900|\n",
      "| 63618|\n",
      "| 65908|\n",
      "| 70279|\n",
      "| 77137|\n",
      "| 86883|\n",
      "|106755|\n",
      "|124139|\n",
      "|130827|\n",
      "+------+\n",
      "only showing top 20 rows\n",
      "\n",
      "elapsedTime => 25285 (25 s)\n"
     ]
    }
   ],
   "source": [
    "# Start measuring performance\n",
    "stagemetrics.begin()\n",
    "\n",
    "# Get the userIds and movieIds with tags containing the word \"bollywood\"\n",
    "bollywood_userIds_movieIds = tag_df \\\n",
    "                            .filter(lower(tag_df[\"tag\"]).contains(\"bollywood\")) \\\n",
    "                            .select([\"userId\", \"movieId\", \"tag\"])\n",
    "\n",
    "# Get all userIds and movieIds with rating above 3\n",
    "above_3_rating = rating_df \\\n",
    "                .filter(rating_df.rating > 3) \\\n",
    "                .select([\"userId\", \"movieId\", \"rating\"])\n",
    "\n",
    "# Inner join based on unique combination of userId and movieId\n",
    "query_3_results = bollywood_userIds_movieIds \\\n",
    "                 .join(above_3_rating, [\"userId\", \"movieId\"], \"inner\") \\\n",
    "                 .select(\"userId\") \\\n",
    "                 .dropDuplicates() \\\n",
    "                 .sort(above_3_rating.userId)\n",
    "\n",
    "# Show results\n",
    "query_3_results.show()\n",
    "\n",
    "# Stop measuring performance\n",
    "stagemetrics.end()\n",
    "\n",
    "# Print performance metrics\n",
    "print(stagemetrics.report().split('\\n')[6])"
   ]
  },
  {
   "cell_type": "code",
   "execution_count": 17,
   "id": "274c36e0",
   "metadata": {},
   "outputs": [
    {
     "name": "stdout",
     "output_type": "stream",
     "text": [
      "+------+\n",
      "|userId|\n",
      "+------+\n",
      "| 10573|\n",
      "| 19837|\n",
      "| 23333|\n",
      "| 25004|\n",
      "| 31338|\n",
      "+------+\n",
      "only showing top 5 rows\n",
      "\n"
     ]
    }
   ],
   "source": [
    "# Show results for report\n",
    "query_3_results.show(5)"
   ]
  },
  {
   "cell_type": "markdown",
   "id": "486d028c",
   "metadata": {},
   "source": [
    " ### Query 4"
   ]
  },
  {
   "cell_type": "code",
   "execution_count": 18,
   "id": "4eb0a8e3",
   "metadata": {
    "scrolled": false
   },
   "outputs": [
    {
     "name": "stdout",
     "output_type": "stream",
     "text": [
      "+----+--------------------+------------------+\n",
      "|year|               title|    average_rating|\n",
      "+----+--------------------+------------------+\n",
      "|1995|Seven (a.k.a. Se7...|               5.0|\n",
      "|1995|Double Life of Ve...|               4.0|\n",
      "|1995|   Get Shorty (1995)|               3.0|\n",
      "|1995|Fish Called Wanda...|               3.0|\n",
      "|1996|Substance of Fire...| 4.708333333333333|\n",
      "|1996|I Can't Sleep (J'...| 4.538461538461538|\n",
      "|1996|Wallace & Gromit:...| 4.519774011299435|\n",
      "|1996|Schindler's List ...|4.5161642205474015|\n",
      "|1996|Thieves (Voleurs,...|               4.5|\n",
      "|1996|Somebody is Waiti...|               4.5|\n",
      "|1996|Wallace & Gromit:...| 4.488428745432399|\n",
      "|1996|Shawshank Redempt...|4.4781818181818185|\n",
      "|1996|Marvin's Room (1996)| 4.388888888888889|\n",
      "|1996|   Casablanca (1942)| 4.386454183266932|\n",
      "|1997|Fallen Angels (Du...|               5.0|\n",
      "|1997|  Spice World (1997)|               5.0|\n",
      "|1997|Leading Man, The ...|               5.0|\n",
      "|1997|Dangerous Beauty ...|               5.0|\n",
      "|1997|     Star Kid (1997)|               5.0|\n",
      "|1997|Here Comes Cookie...|               5.0|\n",
      "+----+--------------------+------------------+\n",
      "only showing top 20 rows\n",
      "\n",
      "elapsedTime => 149266 (2.5 min)\n"
     ]
    }
   ],
   "source": [
    "# Start measuring performance\n",
    "stagemetrics.begin()\n",
    "\n",
    "# Group by year and movieId and find the mean value of rating\n",
    "grouped_data = rating_df \\\n",
    "              .withColumn(\"year\", year(rating_df[\"timestamp\"])) \\\n",
    "              .groupBy([\"year\", \"movieId\"]) \\\n",
    "              .agg({\"rating\": \"mean\"})\n",
    "              \n",
    "# Create a window to limit ratings\n",
    "window = Window \\\n",
    "        .partitionBy(grouped_data[\"year\"]) \\\n",
    "        .orderBy(grouped_data[\"avg(rating)\"] \\\n",
    "        .desc())\n",
    "\n",
    "# Limit the ratings in each group\n",
    "grouped_data_limited = grouped_data \\\n",
    "                      .select('*', row_number().over(window).alias('row_number')) \\\n",
    "                      .filter(col('row_number') <= 10) \\\n",
    "                      .sort([\"year\", \"avg(rating)\"], ascending = [True, False])\n",
    "\n",
    "# Get the movie titles\n",
    "query_4_results = grouped_data_limited \\\n",
    "                 .join(movie_df, \"movieId\", \"inner\") \\\n",
    "                 .select([\"year\", \"title\", \"avg(rating)\"]) \\\n",
    "                 .withColumnRenamed(\"avg(rating)\", \"average_rating\")\n",
    "\n",
    "# Show results\n",
    "query_4_results.show()\n",
    "\n",
    "# Stop measuring performance\n",
    "stagemetrics.end()\n",
    "\n",
    "# Print performance metrics\n",
    "print(stagemetrics.report().split('\\n')[6])"
   ]
  },
  {
   "cell_type": "code",
   "execution_count": 19,
   "id": "e31befc9",
   "metadata": {},
   "outputs": [
    {
     "name": "stdout",
     "output_type": "stream",
     "text": [
      "+----+------------------------------------------------------------------+--------------+\n",
      "|year|                                                             title|average_rating|\n",
      "+----+------------------------------------------------------------------+--------------+\n",
      "|2005|              Not Love, Just Frenzy (Más que amor, frenesí) (1996)|           5.0|\n",
      "|2005|Life Is Rosy (a.k.a. Life Is Beautiful) (Vie est belle, La) (1987)|           5.0|\n",
      "|2005|                                          Paris Was a Woman (1995)|           5.0|\n",
      "|2005|                                              Married to It (1991)|           5.0|\n",
      "|2005|                                             Too Much Sleep (1997)|           5.0|\n",
      "|2005|                                           Fear Strikes Out (1957)|           5.0|\n",
      "|2005|            Before the Fall (NaPolA - Elite für den Führer) (2004)|           5.0|\n",
      "|2005|                                Gate of Heavenly Peace, The (1995)|           5.0|\n",
      "|2005|                 Take Care of My Cat (Goyangileul butaghae) (2001)|           5.0|\n",
      "|2005|                                                 Dancemaker (1998)|           5.0|\n",
      "+----+------------------------------------------------------------------+--------------+\n",
      "\n"
     ]
    }
   ],
   "source": [
    "query_4_results.filter(query_4_results.year == 2005).show(truncate=100)"
   ]
  },
  {
   "cell_type": "markdown",
   "id": "0558a87e",
   "metadata": {},
   "source": [
    "### Query 5"
   ]
  },
  {
   "cell_type": "code",
   "execution_count": 20,
   "id": "afcc58a2",
   "metadata": {},
   "outputs": [
    {
     "name": "stdout",
     "output_type": "stream",
     "text": [
      "+--------------------+--------------------+\n",
      "|               title|                tags|\n",
      "+--------------------+--------------------+\n",
      "|A Grain of Truth ...|Borys Lankosz, Ab...|\n",
      "|A Walk in the Woo...|          Ken Kwapis|\n",
      "| Advantageous (2015)|      Jennifer Phang|\n",
      "|As We Were Dreami...|     based on a book|\n",
      "|Average Italian (...|Marcello Macchia,...|\n",
      "|Beaver Trilogy Pa...|Brad Besser, movi...|\n",
      "|     Blackhat (2015)|        bkk, hackers|\n",
      "|     Brooklyn (2015)| John Crowley, 1950s|\n",
      "|      Chappie (2015)|AI, artificial in...|\n",
      "|Chuck Norris vs C...|Ilinca Calugarean...|\n",
      "|   Cinderella (2015)|Cinderella, unori...|\n",
      "|Diary of a Chambe...|19th century, France|\n",
      "|Digging for Fire ...|        Joe Swanberg|\n",
      "|  Don Verdean (2015)|Jared Hess, Jemai...|\n",
      "|         Dope (2015)|       Rick Famuyiwa|\n",
      "|Drunk Stoned Bril...|Douglas Tirola, m...|\n",
      "| Experimenter (2015)|Michael Almereyda...|\n",
      "|Fifty Shades of G...|abuse, abuse, boo...|\n",
      "|        Focus (2015)|easy to watch, go...|\n",
      "|     Get Hard (2015)|              prison|\n",
      "+--------------------+--------------------+\n",
      "only showing top 20 rows\n",
      "\n",
      "elapsedTime => 1448 (1 s)\n"
     ]
    }
   ],
   "source": [
    "# Start measuring performance\n",
    "stagemetrics.begin()\n",
    "\n",
    "# Get the id and title of 2015 movies\n",
    "movies_2015 = movie_df \\\n",
    "             .filter(movie_df.title.contains(\"(2015)\")) \\\n",
    "             .select([\"movieId\", \"title\"])\n",
    "\n",
    "# Get the tags of 2015 movies\n",
    "joined = movies_2015 \\\n",
    "        .join(tag_df, \"movieId\", \"inner\") \\\n",
    "        .select([\"title\", \"tag\"]) \\\n",
    "        .sort(\"title\")\n",
    "\n",
    "# Group tags by movie title and concatenate them\n",
    "query_5_results = joined \\\n",
    "                 .groupby(\"title\") \\\n",
    "                 .agg(concat_ws(\", \", collect_list(joined.tag)).alias(\"tags\"))\n",
    "\n",
    "# Show results\n",
    "query_5_results.show()\n",
    "\n",
    "# Stop measuring performance\n",
    "stagemetrics.end()\n",
    "\n",
    "# Print performance metrics\n",
    "print(stagemetrics.report().split('\\n')[6])"
   ]
  },
  {
   "cell_type": "code",
   "execution_count": 21,
   "id": "9450d3bd",
   "metadata": {},
   "outputs": [
    {
     "name": "stdout",
     "output_type": "stream",
     "text": [
      "+--------------------------+--------------------------------------------------+\n",
      "|                     title|                                              tags|\n",
      "+--------------------------+--------------------------------------------------+\n",
      "|   A Grain of Truth (2015)|Borys Lankosz, Abel Korzeniowski, Borys Lankosz...|\n",
      "|A Walk in the Woods (2015)|                                        Ken Kwapis|\n",
      "|       Advantageous (2015)|                                    Jennifer Phang|\n",
      "|As We Were Dreaming (2015)|                                   based on a book|\n",
      "|    Average Italian (2015)|                           Marcello Macchia, drugs|\n",
      "+--------------------------+--------------------------------------------------+\n",
      "only showing top 5 rows\n",
      "\n"
     ]
    }
   ],
   "source": [
    "# Show results for report\n",
    "query_5_results.show(5, truncate=50)"
   ]
  },
  {
   "cell_type": "markdown",
   "id": "df2199ec",
   "metadata": {},
   "source": [
    "### Query 6"
   ]
  },
  {
   "cell_type": "code",
   "execution_count": 22,
   "id": "d6e03435",
   "metadata": {},
   "outputs": [
    {
     "name": "stdout",
     "output_type": "stream",
     "text": [
      "+--------------------+-------------+\n",
      "|               title|total_ratings|\n",
      "+--------------------+-------------+\n",
      "| Pulp Fiction (1994)|        67310|\n",
      "| Forrest Gump (1994)|        66172|\n",
      "|Shawshank Redempt...|        63366|\n",
      "|Silence of the La...|        63299|\n",
      "|Jurassic Park (1993)|        59715|\n",
      "|Star Wars: Episod...|        54502|\n",
      "|   Braveheart (1995)|        53769|\n",
      "|Terminator 2: Jud...|        52244|\n",
      "|  Matrix, The (1999)|        51334|\n",
      "|Schindler's List ...|        50054|\n",
      "|    Toy Story (1995)|        49695|\n",
      "|Fugitive, The (1993)|        49581|\n",
      "|    Apollo 13 (1995)|        47777|\n",
      "|Independence Day ...|        47048|\n",
      "|Usual Suspects, T...|        47006|\n",
      "|Star Wars: Episod...|        46839|\n",
      "|       Batman (1989)|        46054|\n",
      "|Star Wars: Episod...|        45313|\n",
      "|American Beauty (...|        44987|\n",
      "|Twelve Monkeys (a...|        44980|\n",
      "+--------------------+-------------+\n",
      "only showing top 20 rows\n",
      "\n",
      "elapsedTime => 20491 (20 s)\n"
     ]
    }
   ],
   "source": [
    "# Start measuring performance\n",
    "stagemetrics.begin()\n",
    "\n",
    "# Group rating by movieId and get movie title from inner join\n",
    "query_6_results = rating_df \\\n",
    "                 .groupBy(\"movieId\") \\\n",
    "                 .agg({\"rating\": \"count\"}) \\\n",
    "                 .join(movie_df, \"movieId\", \"inner\") \\\n",
    "                 .select([\"title\", \"count(rating)\"]) \\\n",
    "                 .sort(\"count(rating)\", ascending=False) \\\n",
    "                 .withColumnRenamed(\"count(rating)\", \"total_ratings\")\n",
    "\n",
    "# Show results\n",
    "query_6_results.show()\n",
    "\n",
    "# Stop measuring performance\n",
    "stagemetrics.end()\n",
    "\n",
    "# Print performance metrics\n",
    "print(stagemetrics.report().split('\\n')[6])"
   ]
  },
  {
   "cell_type": "code",
   "execution_count": 23,
   "id": "d235ac6d",
   "metadata": {},
   "outputs": [
    {
     "name": "stdout",
     "output_type": "stream",
     "text": [
      "+--------------------------------+-------------+\n",
      "|                           title|total_ratings|\n",
      "+--------------------------------+-------------+\n",
      "|             Pulp Fiction (1994)|        67310|\n",
      "|             Forrest Gump (1994)|        66172|\n",
      "|Shawshank Redemption, The (1994)|        63366|\n",
      "|Silence of the Lambs, The (1991)|        63299|\n",
      "|            Jurassic Park (1993)|        59715|\n",
      "+--------------------------------+-------------+\n",
      "only showing top 5 rows\n",
      "\n"
     ]
    }
   ],
   "source": [
    "# Show results for report\n",
    "query_6_results.show(5, truncate=50)"
   ]
  },
  {
   "cell_type": "markdown",
   "id": "200b4d44",
   "metadata": {},
   "source": [
    "### Query 7"
   ]
  },
  {
   "cell_type": "code",
   "execution_count": 24,
   "id": "b67fd124",
   "metadata": {},
   "outputs": [
    {
     "name": "stdout",
     "output_type": "stream",
     "text": [
      "+----+------+-------------+\n",
      "|year|userId|total_ratings|\n",
      "+----+------+-------------+\n",
      "|1995|131160|            3|\n",
      "|1995| 28507|            1|\n",
      "|1996| 25878|          800|\n",
      "|1996|  1931|          722|\n",
      "|1996| 46663|          669|\n",
      "|1996|107732|          657|\n",
      "|1996| 24214|          624|\n",
      "|1996| 41389|          605|\n",
      "|1996| 19067|          605|\n",
      "|1996|  4548|          589|\n",
      "|1996| 46146|          570|\n",
      "|1996| 81218|          510|\n",
      "|1997|124052|         1352|\n",
      "|1997|128653|         1141|\n",
      "|1997|  5814|          849|\n",
      "|1997| 64778|          655|\n",
      "|1997| 83343|          583|\n",
      "|1997|101971|          559|\n",
      "|1997| 34962|          526|\n",
      "|1997| 19954|          522|\n",
      "+----+------+-------------+\n",
      "only showing top 20 rows\n",
      "\n",
      "elapsedTime => 107075 (1.8 min)\n"
     ]
    }
   ],
   "source": [
    "# Start measuring performance\n",
    "stagemetrics.begin()\n",
    "\n",
    "# Group by year and userId and count the ratings for each group\n",
    "grouped_data = rating_df \\\n",
    "              .withColumn(\"year\", year(rating_df[\"timestamp\"])) \\\n",
    "              .groupBy([\"year\", \"userId\"]) \\\n",
    "              .agg({\"rating\": \"count\"})\n",
    "\n",
    "# Create a window to limit ratings\n",
    "window = Window \\\n",
    "        .partitionBy(grouped_data[\"year\"]) \\\n",
    "        .orderBy(grouped_data[\"count(rating)\"] \\\n",
    "        .desc())\n",
    "\n",
    "# Limit the ratings in each group\n",
    "query_7_results = grouped_data \\\n",
    "                 .select('*', row_number().over(window).alias('row_number')) \\\n",
    "                 .filter(col('row_number') <= 10) \\\n",
    "                 .select([\"year\", \"userId\", \"count(rating)\"]) \\\n",
    "                 .sort([\"year\", \"count(rating)\"], ascending = [True, False]) \\\n",
    "                 .withColumnRenamed(\"count(rating)\", \"total_ratings\")\n",
    "\n",
    "# Show results\n",
    "query_7_results.show()\n",
    "\n",
    "# Stop measuring performance\n",
    "stagemetrics.end()\n",
    "\n",
    "# Print performance metrics\n",
    "print(stagemetrics.report().split('\\n')[6])"
   ]
  },
  {
   "cell_type": "code",
   "execution_count": 25,
   "id": "33e6cac8",
   "metadata": {},
   "outputs": [
    {
     "name": "stdout",
     "output_type": "stream",
     "text": [
      "+----+------+-------------+\n",
      "|year|userId|total_ratings|\n",
      "+----+------+-------------+\n",
      "|1995| 28507|            1|\n",
      "|1995|131160|            3|\n",
      "+----+------+-------------+\n",
      "\n"
     ]
    }
   ],
   "source": [
    "# Show results for report\n",
    "query_7_results.filter(query_7_results.year == 1995).sort([\"year\", \"userId\"], ascending = [True, True]).show()"
   ]
  },
  {
   "cell_type": "markdown",
   "id": "10c738e7",
   "metadata": {},
   "source": [
    "### Query 8"
   ]
  },
  {
   "cell_type": "code",
   "execution_count": 26,
   "id": "3b8a409e",
   "metadata": {},
   "outputs": [
    {
     "name": "stdout",
     "output_type": "stream",
     "text": [
      "+-----------+--------------------+-------------+\n",
      "|      genre|               title|total_ratings|\n",
      "+-----------+--------------------+-------------+\n",
      "|     Action|Jurassic Park (1993)|        59715|\n",
      "|  Adventure|    Toy Story (1995)|        49695|\n",
      "|  Animation|Beauty and the Be...|        35138|\n",
      "|   Children|E.T. the Extra-Te...|        32685|\n",
      "|     Comedy| Pulp Fiction (1994)|        67310|\n",
      "|      Crime|Shawshank Redempt...|        63366|\n",
      "|Documentary|Bowling for Colum...|        12280|\n",
      "|      Drama|Schindler's List ...|        50054|\n",
      "|    Fantasy|       Brazil (1985)|        13957|\n",
      "|  Film-Noir|Maltese Falcon, T...|        12144|\n",
      "|     Horror|        Alien (1979)|        30933|\n",
      "|       IMAX|Encounter in the ...|           30|\n",
      "|    Musical|Sound of Music, T...|        14049|\n",
      "|    Mystery|Twelve Monkeys (a...|        44980|\n",
      "|    Romance|Meet Joe Black (1...|         5210|\n",
      "|     Sci-Fi|Mission to Mars (...|         6365|\n",
      "|   Thriller|Fugitive, The (1993)|        49581|\n",
      "|        War|Run Silent Run De...|         1306|\n",
      "|    Western|   Wyatt Earp (1994)|         5025|\n",
      "+-----------+--------------------+-------------+\n",
      "\n",
      "elapsedTime => 26700 (27 s)\n"
     ]
    }
   ],
   "source": [
    "# Start measuring performance\n",
    "stagemetrics.begin()\n",
    "\n",
    "# Keep the first genre of each movie\n",
    "first_genre = movie_df \\\n",
    "             .select('*', split(movie_df.genres, '[|]')[0].alias(\"genre\")) \\\n",
    "             .drop(\"genres\")\n",
    "\n",
    "# Get total ratings by movie\n",
    "total_ratings_by_movie = first_genre \\\n",
    "                        .join(rating_df, \"movieId\", \"inner\") \\\n",
    "                        .groupBy([\"genre\", \"title\"]) \\\n",
    "                        .agg({\"*\": \"count\"}) \\\n",
    "                        .withColumnRenamed(\"count(1)\", \"total_ratings\")\n",
    "\n",
    "# Create a window to limit total ratings\n",
    "window = Window \\\n",
    "        .partitionBy(total_ratings_by_movie[\"genre\"]) \\\n",
    "        .orderBy(total_ratings_by_movie[\"total_ratings\"] \\\n",
    "        .desc())\n",
    "\n",
    "# Limit the total ratings in each group\n",
    "query_8_results = total_ratings_by_movie \\\n",
    "                 .select('*', row_number().over(window).alias('row_number')) \\\n",
    "                 .filter(col('row_number') <= 1) \\\n",
    "                 .select([\"genre\", \"title\", \"total_ratings\"]) \\\n",
    "                 .sort([\"genre\"]) \\\n",
    "                 .filter(total_ratings_by_movie.genre != \"(no genres listed)\")\n",
    "\n",
    "# Show results\n",
    "query_8_results.show()\n",
    "\n",
    "# Stop measuring performance\n",
    "stagemetrics.end()\n",
    "\n",
    "# Print performance metrics\n",
    "print(stagemetrics.report().split('\\n')[6])"
   ]
  },
  {
   "cell_type": "code",
   "execution_count": 27,
   "id": "d0a749b7",
   "metadata": {},
   "outputs": [
    {
     "name": "stdout",
     "output_type": "stream",
     "text": [
      "+---------+---------------------------------+\n",
      "|    genre|                            title|\n",
      "+---------+---------------------------------+\n",
      "|   Action|             Jurassic Park (1993)|\n",
      "|Adventure|                 Toy Story (1995)|\n",
      "|Animation|      Beauty and the Beast (1991)|\n",
      "| Children|E.T. the Extra-Terrestrial (1982)|\n",
      "|   Comedy|              Pulp Fiction (1994)|\n",
      "+---------+---------------------------------+\n",
      "only showing top 5 rows\n",
      "\n"
     ]
    }
   ],
   "source": [
    "# Show results for report\n",
    "query_8_results.drop(\"total_ratings\").show(5, truncate=100)"
   ]
  },
  {
   "cell_type": "markdown",
   "id": "df38c1c5",
   "metadata": {},
   "source": [
    "### Query 9"
   ]
  },
  {
   "cell_type": "code",
   "execution_count": 28,
   "id": "dc1c6efb",
   "metadata": {},
   "outputs": [
    {
     "name": "stdout",
     "output_type": "stream",
     "text": [
      "+-----------------------+\n",
      "|sum(concurrent_viewers)|\n",
      "+-----------------------+\n",
      "|                4281178|\n",
      "+-----------------------+\n",
      "\n",
      "elapsedTime => 148348 (2.5 min)\n"
     ]
    }
   ],
   "source": [
    "# Start measuring performance\n",
    "stagemetrics.begin()\n",
    "\n",
    "# Group by year, month, day of month, hour and movieId and find the concurrent viewers for each movie\n",
    "grouped_data = rating_df \\\n",
    "              .withColumn(\"year\", year(rating_df[\"timestamp\"])) \\\n",
    "              .withColumn(\"month\", month(rating_df[\"timestamp\"])) \\\n",
    "              .withColumn(\"dayofmonth\", dayofmonth(rating_df[\"timestamp\"])) \\\n",
    "              .withColumn(\"hour\", hour(rating_df[\"timestamp\"])) \\\n",
    "              .groupBy([\"movieId\",\"year\", \"month\", \"dayofmonth\", \"hour\"]) \\\n",
    "              .agg({\"*\": \"count\"}) \\\n",
    "              .withColumnRenamed(\"count(1)\", \"concurrent_viewers\") \\\n",
    "              .filter(col(\"concurrent_viewers\") > 1)\n",
    "\n",
    "# Get the sum of concurrent viewers\n",
    "query_9_result = grouped_data.select(sum(\"concurrent_viewers\"))\n",
    "\n",
    "# Show result\n",
    "query_9_result.show()\n",
    "\n",
    "# Stop measuring performance\n",
    "stagemetrics.end()\n",
    "\n",
    "# Print performance metrics\n",
    "print(stagemetrics.report().split('\\n')[6])"
   ]
  },
  {
   "cell_type": "code",
   "execution_count": 29,
   "id": "33e386b0",
   "metadata": {},
   "outputs": [
    {
     "name": "stdout",
     "output_type": "stream",
     "text": [
      "+-----------------------+\n",
      "|sum(concurrent_viewers)|\n",
      "+-----------------------+\n",
      "|                4281178|\n",
      "+-----------------------+\n",
      "\n"
     ]
    }
   ],
   "source": [
    "# Show result for report\n",
    "query_9_result.show()"
   ]
  },
  {
   "cell_type": "markdown",
   "id": "054c3382",
   "metadata": {},
   "source": [
    "### Query 10"
   ]
  },
  {
   "cell_type": "code",
   "execution_count": 30,
   "id": "1d1d84eb",
   "metadata": {},
   "outputs": [
    {
     "name": "stdout",
     "output_type": "stream",
     "text": [
      "+-----------+------------+\n",
      "|      genre|total_movies|\n",
      "+-----------+------------+\n",
      "|     Action|          68|\n",
      "|  Adventure|          44|\n",
      "|  Animation|          26|\n",
      "|   Children|           7|\n",
      "|     Comedy|         226|\n",
      "|      Crime|          11|\n",
      "|Documentary|           6|\n",
      "|      Drama|          33|\n",
      "|    Fantasy|           2|\n",
      "|     Horror|           1|\n",
      "|    Romance|           1|\n",
      "+-----------+------------+\n",
      "\n",
      "elapsedTime => 29086 (29 s)\n"
     ]
    }
   ],
   "source": [
    "# Start measuring performance\n",
    "stagemetrics.begin()\n",
    "\n",
    "# Keep the first genre of each movie\n",
    "first_genre = movie_df \\\n",
    "             .select('*', split(movie_df.genres, '[|]')[0].alias(\"genre\")) \\\n",
    "             .drop(\"genres\")\n",
    "\n",
    "# Keep movies that are tagged as \"funny\"\n",
    "funny_movies = first_genre \\\n",
    "              .join(tag_df, \"movieId\", \"inner\") \\\n",
    "              .filter(lower(tag_df[\"tag\"]).contains(\"funny\")) \\\n",
    "              .select(\"movieId\", \"tag\", \"genre\") \\\n",
    "              .dropDuplicates([\"movieId\"])\n",
    "\n",
    "# Keep movies that are rated above 3.5\n",
    "good_movies = first_genre \\\n",
    "             .join(rating_df, \"movieId\", \"inner\") \\\n",
    "             .groupBy(\"movieId\") \\\n",
    "             .agg({\"rating\": \"mean\"}) \\\n",
    "             .withColumnRenamed(\"avg(rating)\", \"average_rating\") \\\n",
    "             .filter(col(\"average_rating\") > 3.5) \\\n",
    "             .select(\"movieId\", \"average_rating\")\n",
    "\n",
    "# Keep movies that are tagged as \"funny\" and are rated above 3.5 and group them by genre\n",
    "query_10_results = funny_movies \\\n",
    "                  .join(good_movies, \"movieId\", \"inner\") \\\n",
    "                  .groupBy(\"genre\") \\\n",
    "                  .agg({\"*\": \"count\"}) \\\n",
    "                  .withColumnRenamed(\"count(1)\", \"total_movies\") \\\n",
    "                  .sort(\"genre\") \\\n",
    "                  .select(\"genre\", \"total_movies\")\n",
    "\n",
    "# Show results\n",
    "query_10_results.show()\n",
    "\n",
    "# Stop measuring performance\n",
    "stagemetrics.end()\n",
    "\n",
    "# Print performance metrics\n",
    "print(stagemetrics.report().split('\\n')[6])"
   ]
  },
  {
   "cell_type": "code",
   "execution_count": 31,
   "id": "e37b46a3",
   "metadata": {},
   "outputs": [
    {
     "name": "stdout",
     "output_type": "stream",
     "text": [
      "+---------+------------+\n",
      "|    genre|total_movies|\n",
      "+---------+------------+\n",
      "|   Action|          68|\n",
      "|Adventure|          44|\n",
      "|Animation|          26|\n",
      "| Children|           7|\n",
      "|   Comedy|         226|\n",
      "+---------+------------+\n",
      "only showing top 5 rows\n",
      "\n"
     ]
    }
   ],
   "source": [
    "# Show results\n",
    "query_10_results.show(5)"
   ]
  },
  {
   "cell_type": "code",
   "execution_count": null,
   "id": "c44e878e",
   "metadata": {},
   "outputs": [],
   "source": []
  }
 ],
 "metadata": {
  "kernelspec": {
   "display_name": "Python 3",
   "language": "python",
   "name": "python3"
  },
  "language_info": {
   "codemirror_mode": {
    "name": "ipython",
    "version": 3
   },
   "file_extension": ".py",
   "mimetype": "text/x-python",
   "name": "python",
   "nbconvert_exporter": "python",
   "pygments_lexer": "ipython3",
   "version": "3.6.9"
  }
 },
 "nbformat": 4,
 "nbformat_minor": 5
}
