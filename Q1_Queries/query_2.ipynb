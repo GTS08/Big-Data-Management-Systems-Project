{
 "cells": [
  {
   "cell_type": "markdown",
   "id": "1d4f57b9",
   "metadata": {},
   "source": [
    "# Query 1"
   ]
  },
  {
   "cell_type": "markdown",
   "id": "88092709",
   "metadata": {},
   "source": [
    "## Initiate Spark"
   ]
  },
  {
   "cell_type": "code",
   "execution_count": 14,
   "id": "6a1ce091",
   "metadata": {},
   "outputs": [],
   "source": [
    "from pyspark.sql import SparkSession\n",
    "from sparkmeasure import StageMetrics\n",
    "from pyspark.sql.functions import lower\n",
    "\n",
    "# Create a new Spark Session\n",
    "spark = SparkSession \\\n",
    "    .builder \\\n",
    "    .appName(\"Movies2\") \\\n",
    "    .config(\"spark.jars\", \"../spark-measure_2.11-0.17.jar\") \\\n",
    "    .getOrCreate()\n",
    "\n",
    "# Create spark metrics object\n",
    "stagemetrics = StageMetrics(spark)"
   ]
  },
  {
   "cell_type": "code",
   "execution_count": 15,
   "id": "b539b66c",
   "metadata": {},
   "outputs": [
    {
     "data": {
      "text/html": [
       "\n",
       "            <div>\n",
       "                <p><b>SparkSession - in-memory</b></p>\n",
       "                \n",
       "        <div>\n",
       "            <p><b>SparkContext</b></p>\n",
       "\n",
       "            <p><a href=\"http://10.0.2.15:4040\">Spark UI</a></p>\n",
       "\n",
       "            <dl>\n",
       "              <dt>Version</dt>\n",
       "                <dd><code>v2.4.8</code></dd>\n",
       "              <dt>Master</dt>\n",
       "                <dd><code>local[*]</code></dd>\n",
       "              <dt>AppName</dt>\n",
       "                <dd><code>Movies2</code></dd>\n",
       "            </dl>\n",
       "        </div>\n",
       "        \n",
       "            </div>\n",
       "        "
      ],
      "text/plain": [
       "<pyspark.sql.session.SparkSession at 0x7f2aac085f98>"
      ]
     },
     "execution_count": 15,
     "metadata": {},
     "output_type": "execute_result"
    }
   ],
   "source": [
    "spark"
   ]
  },
  {
   "cell_type": "markdown",
   "id": "99e12638",
   "metadata": {},
   "source": [
    "## Load Datasets To Dataframes"
   ]
  },
  {
   "cell_type": "markdown",
   "id": "7100fdec",
   "metadata": {},
   "source": [
    "### Movie Dataframe"
   ]
  },
  {
   "cell_type": "code",
   "execution_count": 16,
   "id": "5a05bee1",
   "metadata": {},
   "outputs": [],
   "source": [
    "movie_df = (spark.read\n",
    "            .format(\"csv\")\n",
    "            .option(\"header\", \"true\")\n",
    "            .option(\"delimiter\", \",\")\n",
    "            .load(\"../datasets/movie.csv\")\n",
    "           )"
   ]
  },
  {
   "cell_type": "code",
   "execution_count": 17,
   "id": "24ea2515",
   "metadata": {},
   "outputs": [
    {
     "name": "stdout",
     "output_type": "stream",
     "text": [
      "+-------+--------------------+--------------------+\n",
      "|movieId|               title|              genres|\n",
      "+-------+--------------------+--------------------+\n",
      "|      1|    Toy Story (1995)|Adventure|Animati...|\n",
      "|      2|      Jumanji (1995)|Adventure|Childre...|\n",
      "|      3|Grumpier Old Men ...|      Comedy|Romance|\n",
      "|      4|Waiting to Exhale...|Comedy|Drama|Romance|\n",
      "|      5|Father of the Bri...|              Comedy|\n",
      "+-------+--------------------+--------------------+\n",
      "only showing top 5 rows\n",
      "\n"
     ]
    }
   ],
   "source": [
    "movie_df.show(5)"
   ]
  },
  {
   "cell_type": "markdown",
   "id": "4d0bdd23",
   "metadata": {},
   "source": [
    "### Rating Dataframe"
   ]
  },
  {
   "cell_type": "code",
   "execution_count": 18,
   "id": "ad6ae512",
   "metadata": {},
   "outputs": [],
   "source": [
    "rating_df = (spark.read\n",
    "            .format(\"csv\")\n",
    "            .option(\"header\", \"true\")\n",
    "            .option(\"delimiter\", \",\")\n",
    "            .load(\"../datasets/rating.csv\")\n",
    "           )"
   ]
  },
  {
   "cell_type": "code",
   "execution_count": 19,
   "id": "169faf21",
   "metadata": {},
   "outputs": [
    {
     "name": "stdout",
     "output_type": "stream",
     "text": [
      "+------+-------+------+-------------------+\n",
      "|userId|movieId|rating|          timestamp|\n",
      "+------+-------+------+-------------------+\n",
      "|     1|      2|   3.5|2005-04-02 23:53:47|\n",
      "|     1|     29|   3.5|2005-04-02 23:31:16|\n",
      "|     1|     32|   3.5|2005-04-02 23:33:39|\n",
      "|     1|     47|   3.5|2005-04-02 23:32:07|\n",
      "|     1|     50|   3.5|2005-04-02 23:29:40|\n",
      "+------+-------+------+-------------------+\n",
      "only showing top 5 rows\n",
      "\n"
     ]
    }
   ],
   "source": [
    "rating_df.show(5)"
   ]
  },
  {
   "cell_type": "markdown",
   "id": "6e682663",
   "metadata": {},
   "source": [
    "### Tag Dataframe"
   ]
  },
  {
   "cell_type": "code",
   "execution_count": 20,
   "id": "382ffb43",
   "metadata": {},
   "outputs": [],
   "source": [
    "tag_df = (spark.read\n",
    "            .format(\"csv\")\n",
    "            .option(\"header\", \"true\")\n",
    "            .option(\"delimiter\", \",\")\n",
    "            .load(\"../datasets/tag.csv\")\n",
    "           )"
   ]
  },
  {
   "cell_type": "code",
   "execution_count": 21,
   "id": "2e94c581",
   "metadata": {},
   "outputs": [
    {
     "name": "stdout",
     "output_type": "stream",
     "text": [
      "+------+-------+-------------+-------------------+\n",
      "|userId|movieId|          tag|          timestamp|\n",
      "+------+-------+-------------+-------------------+\n",
      "|    18|   4141|  Mark Waters|2009-04-24 18:19:40|\n",
      "|    65|    208|    dark hero|2013-05-10 01:41:18|\n",
      "|    65|    353|    dark hero|2013-05-10 01:41:19|\n",
      "|    65|    521|noir thriller|2013-05-10 01:39:43|\n",
      "|    65|    592|    dark hero|2013-05-10 01:41:18|\n",
      "+------+-------+-------------+-------------------+\n",
      "only showing top 5 rows\n",
      "\n"
     ]
    }
   ],
   "source": [
    "tag_df.show(5)"
   ]
  },
  {
   "cell_type": "markdown",
   "id": "d8c1460c",
   "metadata": {},
   "source": [
    "### Genome Tags Dataframe"
   ]
  },
  {
   "cell_type": "code",
   "execution_count": 22,
   "id": "e6dfdd2f",
   "metadata": {},
   "outputs": [],
   "source": [
    "genome_tags_df = (spark.read\n",
    "            .format(\"csv\")\n",
    "            .option(\"header\", \"true\")\n",
    "            .option(\"delimiter\", \",\")\n",
    "            .load(\"../datasets/genome_tags.csv\")\n",
    "           )"
   ]
  },
  {
   "cell_type": "code",
   "execution_count": 23,
   "id": "b0437538",
   "metadata": {},
   "outputs": [
    {
     "name": "stdout",
     "output_type": "stream",
     "text": [
      "+-----+------------+\n",
      "|tagId|         tag|\n",
      "+-----+------------+\n",
      "|    1|         007|\n",
      "|    2|007 (series)|\n",
      "|    3|18th century|\n",
      "|    4|       1920s|\n",
      "|    5|       1930s|\n",
      "+-----+------------+\n",
      "only showing top 5 rows\n",
      "\n"
     ]
    }
   ],
   "source": [
    "genome_tags_df.show(5)"
   ]
  },
  {
   "cell_type": "markdown",
   "id": "d91b87b7",
   "metadata": {},
   "source": [
    "## Query"
   ]
  },
  {
   "cell_type": "code",
   "execution_count": 26,
   "id": "621372b4",
   "metadata": {},
   "outputs": [
    {
     "name": "stdout",
     "output_type": "stream",
     "text": [
      "\n",
      "Scheduling mode = FIFO\n",
      "Spark Context default degree of parallelism = 4\n",
      " no data to report \n"
     ]
    }
   ],
   "source": [
    "# Start measuring performance\n",
    "stagemetrics.begin()\n",
    "\n",
    "unique_boring_movieIds = tag_df.filter(lower(tag_df[\"tag\"]).contains(\"boring\")) \\\n",
    "                        .select(\"movieId\") \\\n",
    "                        .dropDuplicates()\n",
    "\n",
    "\n",
    "unique_boring_movie_titles = unique_boring_movieIds \\\n",
    "                            .join(movie_df, unique_boring_movieIds.movieId == movie_df.movieId, 'inner') \\\n",
    "                            .select(movie_df.title).sort(movie_df.title)\n",
    "\n",
    "# Stop measuring performance\n",
    "stagemetrics.end()\n",
    "\n",
    "# Print performance metrics\n",
    "stagemetrics.print_report()\n",
    "#print(stagemetrics.report().split('\\n')[6])"
   ]
  },
  {
   "cell_type": "markdown",
   "id": "b73f5252",
   "metadata": {},
   "source": [
    "## Result"
   ]
  },
  {
   "cell_type": "code",
   "execution_count": 12,
   "id": "ea96446d",
   "metadata": {},
   "outputs": [
    {
     "data": {
      "text/plain": [
       "674"
      ]
     },
     "execution_count": 12,
     "metadata": {},
     "output_type": "execute_result"
    }
   ],
   "source": [
    "unique_boring_movie_titles.count()"
   ]
  },
  {
   "cell_type": "code",
   "execution_count": 13,
   "id": "acd5045d",
   "metadata": {},
   "outputs": [],
   "source": [
    "spark.stop()"
   ]
  },
  {
   "cell_type": "code",
   "execution_count": null,
   "id": "ca09dc75",
   "metadata": {},
   "outputs": [],
   "source": []
  }
 ],
 "metadata": {
  "kernelspec": {
   "display_name": "Python 3",
   "language": "python",
   "name": "python3"
  },
  "language_info": {
   "codemirror_mode": {
    "name": "ipython",
    "version": 3
   },
   "file_extension": ".py",
   "mimetype": "text/x-python",
   "name": "python",
   "nbconvert_exporter": "python",
   "pygments_lexer": "ipython3",
   "version": "3.6.9"
  }
 },
 "nbformat": 4,
 "nbformat_minor": 5
}
