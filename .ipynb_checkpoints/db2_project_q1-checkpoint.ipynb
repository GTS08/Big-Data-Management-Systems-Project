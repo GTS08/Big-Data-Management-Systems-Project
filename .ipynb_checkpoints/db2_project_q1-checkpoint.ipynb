{
 "cells": [
  {
   "cell_type": "markdown",
   "id": "1d4f57b9",
   "metadata": {},
   "source": [
    "# Question 1"
   ]
  },
  {
   "cell_type": "markdown",
   "id": "88092709",
   "metadata": {},
   "source": [
    "## Initiate Spark"
   ]
  },
  {
   "cell_type": "code",
   "execution_count": 1,
   "id": "6a1ce091",
   "metadata": {},
   "outputs": [],
   "source": [
    "from pyspark.sql import SparkSession\n",
    "from sparkmeasure import StageMetrics\n",
    "from pyspark.sql.functions import lower\n",
    "\n",
    "# Create a new Spark Session\n",
    "spark = SparkSession \\\n",
    "    .builder \\\n",
    "    .appName(\"Movies\") \\\n",
    "    .config(\"spark.jars\", \"spark-measure_2.11-0.17.jar\") \\\n",
    "    .getOrCreate()\n",
    "\n",
    "# Create spark metrics object\n",
    "stagemetrics = StageMetrics(spark)"
   ]
  },
  {
   "cell_type": "code",
   "execution_count": 2,
   "id": "b539b66c",
   "metadata": {},
   "outputs": [
    {
     "data": {
      "text/html": [
       "\n",
       "            <div>\n",
       "                <p><b>SparkSession - in-memory</b></p>\n",
       "                \n",
       "        <div>\n",
       "            <p><b>SparkContext</b></p>\n",
       "\n",
       "            <p><a href=\"http://10.0.2.15:4040\">Spark UI</a></p>\n",
       "\n",
       "            <dl>\n",
       "              <dt>Version</dt>\n",
       "                <dd><code>v2.4.8</code></dd>\n",
       "              <dt>Master</dt>\n",
       "                <dd><code>local[*]</code></dd>\n",
       "              <dt>AppName</dt>\n",
       "                <dd><code>Movies</code></dd>\n",
       "            </dl>\n",
       "        </div>\n",
       "        \n",
       "            </div>\n",
       "        "
      ],
      "text/plain": [
       "<pyspark.sql.session.SparkSession at 0x7f7f0a739ac8>"
      ]
     },
     "execution_count": 2,
     "metadata": {},
     "output_type": "execute_result"
    }
   ],
   "source": [
    "spark"
   ]
  },
  {
   "cell_type": "markdown",
   "id": "99e12638",
   "metadata": {},
   "source": [
    "## Load Datasets To Dataframes"
   ]
  },
  {
   "cell_type": "markdown",
   "id": "7100fdec",
   "metadata": {},
   "source": [
    "### Movie Dataframe"
   ]
  },
  {
   "cell_type": "code",
   "execution_count": 47,
   "id": "5a05bee1",
   "metadata": {},
   "outputs": [],
   "source": [
    "movie_df = (spark.read\n",
    "            .format(\"csv\")\n",
    "            .option(\"header\", \"true\")\n",
    "            .option(\"delimiter\", \",\")\n",
    "            .option(\"inferSchema\", \"true\")\n",
    "            .load(\"datasets/movie.csv\")\n",
    "           )"
   ]
  },
  {
   "cell_type": "code",
   "execution_count": 4,
   "id": "24ea2515",
   "metadata": {},
   "outputs": [
    {
     "name": "stdout",
     "output_type": "stream",
     "text": [
      "+-------+--------------------+--------------------+\n",
      "|movieId|               title|              genres|\n",
      "+-------+--------------------+--------------------+\n",
      "|      1|    Toy Story (1995)|Adventure|Animati...|\n",
      "|      2|      Jumanji (1995)|Adventure|Childre...|\n",
      "|      3|Grumpier Old Men ...|      Comedy|Romance|\n",
      "|      4|Waiting to Exhale...|Comedy|Drama|Romance|\n",
      "|      5|Father of the Bri...|              Comedy|\n",
      "+-------+--------------------+--------------------+\n",
      "only showing top 5 rows\n",
      "\n"
     ]
    }
   ],
   "source": [
    "movie_df.show(5)"
   ]
  },
  {
   "cell_type": "markdown",
   "id": "4d0bdd23",
   "metadata": {},
   "source": [
    "### Rating Dataframe"
   ]
  },
  {
   "cell_type": "code",
   "execution_count": 50,
   "id": "ad6ae512",
   "metadata": {},
   "outputs": [],
   "source": [
    "rating_df = (spark.read\n",
    "            .format(\"csv\")\n",
    "            .option(\"header\", \"true\")\n",
    "            .option(\"delimiter\", \",\")\n",
    "            .option(\"inferSchema\", \"true\")\n",
    "            .load(\"datasets/rating.csv\")\n",
    "           )"
   ]
  },
  {
   "cell_type": "code",
   "execution_count": 51,
   "id": "f495ec5d",
   "metadata": {},
   "outputs": [
    {
     "name": "stdout",
     "output_type": "stream",
     "text": [
      "root\n",
      " |-- userId: integer (nullable = true)\n",
      " |-- movieId: integer (nullable = true)\n",
      " |-- rating: double (nullable = true)\n",
      " |-- timestamp: timestamp (nullable = true)\n",
      "\n"
     ]
    }
   ],
   "source": [
    "rating_df.printSchema()"
   ]
  },
  {
   "cell_type": "code",
   "execution_count": 6,
   "id": "169faf21",
   "metadata": {},
   "outputs": [
    {
     "name": "stdout",
     "output_type": "stream",
     "text": [
      "+------+-------+------+-------------------+\n",
      "|userId|movieId|rating|          timestamp|\n",
      "+------+-------+------+-------------------+\n",
      "|     1|      2|   3.5|2005-04-02 23:53:47|\n",
      "|     1|     29|   3.5|2005-04-02 23:31:16|\n",
      "|     1|     32|   3.5|2005-04-02 23:33:39|\n",
      "|     1|     47|   3.5|2005-04-02 23:32:07|\n",
      "|     1|     50|   3.5|2005-04-02 23:29:40|\n",
      "+------+-------+------+-------------------+\n",
      "only showing top 5 rows\n",
      "\n"
     ]
    }
   ],
   "source": [
    "rating_df.show(5)"
   ]
  },
  {
   "cell_type": "markdown",
   "id": "6e682663",
   "metadata": {},
   "source": [
    "### Tag Dataframe"
   ]
  },
  {
   "cell_type": "code",
   "execution_count": 48,
   "id": "382ffb43",
   "metadata": {},
   "outputs": [],
   "source": [
    "tag_df = (spark.read\n",
    "            .format(\"csv\")\n",
    "            .option(\"header\", \"true\")\n",
    "            .option(\"delimiter\", \",\")\n",
    "            .option(\"inferSchema\", \"true\") \n",
    "            .load(\"datasets/tag.csv\")\n",
    "           )"
   ]
  },
  {
   "cell_type": "code",
   "execution_count": 8,
   "id": "2e94c581",
   "metadata": {},
   "outputs": [
    {
     "name": "stdout",
     "output_type": "stream",
     "text": [
      "+------+-------+-------------+-------------------+\n",
      "|userId|movieId|          tag|          timestamp|\n",
      "+------+-------+-------------+-------------------+\n",
      "|    18|   4141|  Mark Waters|2009-04-24 18:19:40|\n",
      "|    65|    208|    dark hero|2013-05-10 01:41:18|\n",
      "|    65|    353|    dark hero|2013-05-10 01:41:19|\n",
      "|    65|    521|noir thriller|2013-05-10 01:39:43|\n",
      "|    65|    592|    dark hero|2013-05-10 01:41:18|\n",
      "+------+-------+-------------+-------------------+\n",
      "only showing top 5 rows\n",
      "\n"
     ]
    }
   ],
   "source": [
    "tag_df.show(5)"
   ]
  },
  {
   "cell_type": "markdown",
   "id": "d8c1460c",
   "metadata": {},
   "source": [
    "### Genome Tags Dataframe"
   ]
  },
  {
   "cell_type": "code",
   "execution_count": 49,
   "id": "e6dfdd2f",
   "metadata": {},
   "outputs": [],
   "source": [
    "genome_tags_df = (spark.read\n",
    "            .format(\"csv\")\n",
    "            .option(\"header\", \"true\")\n",
    "            .option(\"delimiter\", \",\")\n",
    "            .option(\"inferSchema\", \"true\") \n",
    "            .load(\"datasets/genome_tags.csv\")\n",
    "           )"
   ]
  },
  {
   "cell_type": "code",
   "execution_count": 10,
   "id": "b0437538",
   "metadata": {},
   "outputs": [
    {
     "name": "stdout",
     "output_type": "stream",
     "text": [
      "+-----+------------+\n",
      "|tagId|         tag|\n",
      "+-----+------------+\n",
      "|    1|         007|\n",
      "|    2|007 (series)|\n",
      "|    3|18th century|\n",
      "|    4|       1920s|\n",
      "|    5|       1930s|\n",
      "+-----+------------+\n",
      "only showing top 5 rows\n",
      "\n"
     ]
    }
   ],
   "source": [
    "genome_tags_df.show(5)"
   ]
  },
  {
   "cell_type": "markdown",
   "id": "d91b87b7",
   "metadata": {},
   "source": [
    "## Queries"
   ]
  },
  {
   "cell_type": "markdown",
   "id": "07484e61",
   "metadata": {},
   "source": [
    "### Query 1"
   ]
  },
  {
   "cell_type": "code",
   "execution_count": 11,
   "id": "4b573c08",
   "metadata": {},
   "outputs": [
    {
     "name": "stdout",
     "output_type": "stream",
     "text": [
      "elapsedTime => 36913 (37 s)\n"
     ]
    }
   ],
   "source": [
    "# Start measuring performance\n",
    "stagemetrics.begin()\n",
    "\n",
    "# Get the id of the movie \"Jumanji\"\n",
    "jumanji_id = movie_df.filter(movie_df.title.contains(\"Jumanji\")) \\\n",
    "            .select(\"movieId\") \\\n",
    "            .collect()[0][\"movieId\"]\n",
    "\n",
    "# Get the number of users that watched \"Jumanji\"\n",
    "watched_jumanji = rating_df.filter(rating_df[\"movieId\"] == jumanji_id) \\\n",
    "                 .count()\n",
    "\n",
    "# Stop measuring performance\n",
    "stagemetrics.end()\n",
    "\n",
    "# Print performance metrics\n",
    "print(stagemetrics.report().split('\\n')[6])"
   ]
  },
  {
   "cell_type": "code",
   "execution_count": 12,
   "id": "5c52d09e",
   "metadata": {},
   "outputs": [
    {
     "data": {
      "text/plain": [
       "22243"
      ]
     },
     "execution_count": 12,
     "metadata": {},
     "output_type": "execute_result"
    }
   ],
   "source": [
    "watched_jumanji"
   ]
  },
  {
   "cell_type": "markdown",
   "id": "75658047",
   "metadata": {},
   "source": [
    "### Query 2"
   ]
  },
  {
   "cell_type": "code",
   "execution_count": 52,
   "id": "621372b4",
   "metadata": {},
   "outputs": [
    {
     "name": "stdout",
     "output_type": "stream",
     "text": [
      "\n",
      "Scheduling mode = FIFO\n",
      "Spark Context default degree of parallelism = 4\n",
      " no data to report \n"
     ]
    }
   ],
   "source": [
    "# Start measuring performance\n",
    "stagemetrics.begin()\n",
    "\n",
    "# Get the movieIds with tags containing the word \"boring\"\n",
    "unique_boring_movieIds = tag_df.filter(lower(tag_df[\"tag\"]).contains(\"boring\")) \\\n",
    "                        .select(\"movieId\") \\\n",
    "                        .dropDuplicates()\n",
    "\n",
    "# Get the corresponding movie titles from movieIds in alphabetical order\n",
    "unique_boring_movie_titles = unique_boring_movieIds \\\n",
    "                            .join(movie_df, \"movieId\", \"inner\") \\\n",
    "                            .select(movie_df.title) \\\n",
    "                            .sort(movie_df.title)\n",
    "\n",
    "# Stop measuring performance\n",
    "stagemetrics.end()\n",
    "\n",
    "# Print performance metrics\n",
    "stagemetrics.print_report()\n",
    "#print(stagemetrics.report().split('\\n')[6])"
   ]
  },
  {
   "cell_type": "code",
   "execution_count": 53,
   "id": "ea96446d",
   "metadata": {},
   "outputs": [
    {
     "name": "stdout",
     "output_type": "stream",
     "text": [
      "+--------------------+\n",
      "|               title|\n",
      "+--------------------+\n",
      "|(500) Days of Sum...|\n",
      "|101 Reykjavik (10...|\n",
      "|12 Years a Slave ...|\n",
      "|         1408 (2007)|\n",
      "|1492: Conquest of...|\n",
      "+--------------------+\n",
      "only showing top 5 rows\n",
      "\n"
     ]
    }
   ],
   "source": [
    "unique_boring_movie_titles.show(5)"
   ]
  },
  {
   "cell_type": "markdown",
   "id": "ad2b2b93",
   "metadata": {},
   "source": [
    "### Query 3"
   ]
  },
  {
   "cell_type": "code",
   "execution_count": 57,
   "id": "9fe5d2a6",
   "metadata": {},
   "outputs": [
    {
     "name": "stdout",
     "output_type": "stream",
     "text": [
      "\n",
      "Scheduling mode = FIFO\n",
      "Spark Context default degree of parallelism = 4\n",
      " no data to report \n"
     ]
    }
   ],
   "source": [
    "# Start measuring performance\n",
    "stagemetrics.begin()\n",
    "\n",
    "# Get the userIds and movieIds with tags containing the word \"bollywood\"\n",
    "bollywood_userIds_movieIds = tag_df.filter(lower(tag_df[\"tag\"]).contains(\"bollywood\")) \\\n",
    "                                   .select([\"userId\", \"movieId\", \"tag\"])\n",
    "\n",
    "# Get all userIds and movieIds with rating above 3\n",
    "above_3_rating = rating_df.filter(rating_df.rating > 3) \\\n",
    "                          .select([\"userId\", \"movieId\", \"rating\"])\n",
    "\n",
    "# Inner join based on unique combination of userId and movieId\n",
    "query_3_result = bollywood_userIds_movieIds \\\n",
    "                .join(above_3_rating, [\"userId\", \"movieId\"], \"inner\") \\\n",
    "                .select(\"userId\") \\\n",
    "                .dropDuplicates() \\\n",
    "                .sort(above_3_rating.userId)\n",
    "\n",
    "# Stop measuring performance\n",
    "stagemetrics.end()\n",
    "\n",
    "# Print performance metrics\n",
    "stagemetrics.print_report()\n",
    "#print(stagemetrics.report().split('\\n')[6])"
   ]
  },
  {
   "cell_type": "code",
   "execution_count": 58,
   "id": "88a586b8",
   "metadata": {},
   "outputs": [
    {
     "name": "stdout",
     "output_type": "stream",
     "text": [
      "+------+\n",
      "|userId|\n",
      "+------+\n",
      "| 10573|\n",
      "| 19837|\n",
      "| 23333|\n",
      "| 25004|\n",
      "| 31338|\n",
      "+------+\n",
      "only showing top 5 rows\n",
      "\n"
     ]
    }
   ],
   "source": [
    "query_3_result.show(5)"
   ]
  },
  {
   "cell_type": "markdown",
   "id": "1ce10dd6",
   "metadata": {},
   "source": [
    " ### Query 4"
   ]
  },
  {
   "cell_type": "code",
   "execution_count": 153,
   "id": "3d647dfd",
   "metadata": {
    "scrolled": false
   },
   "outputs": [
    {
     "name": "stdout",
     "output_type": "stream",
     "text": [
      "+----+--------------------+-----------+\n",
      "|year|               title|avg(rating)|\n",
      "+----+--------------------+-----------+\n",
      "|2005|Not Love, Just Fr...|        5.0|\n",
      "|2005|Life Is Rosy (a.k...|        5.0|\n",
      "|2005|Paris Was a Woman...|        5.0|\n",
      "|2005|Married to It (1991)|        5.0|\n",
      "|2005|Too Much Sleep (1...|        5.0|\n",
      "|2005|Fear Strikes Out ...|        5.0|\n",
      "|2005|Before the Fall (...|        5.0|\n",
      "|2005|Gate of Heavenly ...|        5.0|\n",
      "|2005|Take Care of My C...|        5.0|\n",
      "|2005|   Dancemaker (1998)|        5.0|\n",
      "+----+--------------------+-----------+\n",
      "\n",
      "\n",
      "Scheduling mode = FIFO\n",
      "Spark Context default degree of parallelism = 4\n",
      "Aggregated Spark stage metrics:\n",
      "numStages => 7\n",
      "numTasks => 609\n",
      "elapsedTime => 123180 (2.1 min)\n",
      "stageDuration => 122907 (2.0 min)\n",
      "executorRunTime => 353706 (5.9 min)\n",
      "executorCpuTime => 328093 (5.5 min)\n",
      "executorDeserializeTime => 2009 (2 s)\n",
      "executorDeserializeCpuTime => 1683 (2 s)\n",
      "resultSerializationTime => 20 (20 ms)\n",
      "jvmGCTime => 5703 (6 s)\n",
      "shuffleFetchWaitTime => 0 (0 ms)\n",
      "shuffleWriteTime => 1368 (1 s)\n",
      "resultSize => 879015 (858.0 KB)\n",
      "diskBytesSpilled => 0 (0 Bytes)\n",
      "memoryBytesSpilled => 0 (0 Bytes)\n",
      "peakExecutionMemory => 891289600\n",
      "recordsRead => 20027541\n",
      "bytesRead => 692174705 (660.0 MB)\n",
      "recordsWritten => 0\n",
      "bytesWritten => 0 (0 Bytes)\n",
      "shuffleRecordsRead => 59072\n",
      "shuffleTotalBlocksFetched => 1601\n",
      "shuffleLocalBlocksFetched => 1601\n",
      "shuffleRemoteBlocksFetched => 0\n",
      "shuffleTotalBytesRead => 980622 (957.0 KB)\n",
      "shuffleLocalBytesRead => 980622 (957.0 KB)\n",
      "shuffleRemoteBytesRead => 0 (0 Bytes)\n",
      "shuffleRemoteBytesReadToDisk => 0 (0 Bytes)\n",
      "shuffleBytesWritten => 850725 (830.0 KB)\n",
      "shuffleRecordsWritten => 50563\n"
     ]
    }
   ],
   "source": [
    "from pyspark.sql.functions import lower, year\n",
    "from pyspark.sql.functions import rank, col, row_number\n",
    "from pyspark.sql.window import Window\n",
    "\n",
    "# Start measuring performance\n",
    "stagemetrics.begin()\n",
    "\n",
    "# Group by year and movieId and find the mean value of rating\n",
    "grouped_data = rating_df.withColumn(\"year\", year(rating_df[\"timestamp\"])) \\\n",
    "              .groupBy([\"year\", \"movieId\"]) \\\n",
    "              .agg({\"rating\": \"mean\"})\n",
    "              \n",
    "# Create a window to limit ratings\n",
    "window = Window.partitionBy(grouped_data[\"year\"]) \\\n",
    "        .orderBy(grouped_data[\"avg(rating)\"] \\\n",
    "        .desc())\n",
    "\n",
    "# Limit the ratings in each group\n",
    "grouped_data_limited = grouped_data.select('*', row_number().over(window).alias('row_number')) \\\n",
    "                      .filter(col('row_number') <= 10) \\\n",
    "                      .sort([\"year\", \"avg(rating)\"], ascending = [True, False])\n",
    "\n",
    "# Get the movie titles\n",
    "query_4_result = grouped_data_limited.join(movie_df, \"movieId\", \"inner\") \\\n",
    "                .select([\"year\", \"title\", \"avg(rating)\"])\n",
    "\n",
    "# Show results\n",
    "query_4_result.show()\n",
    "\n",
    "# Stop measuring performance\n",
    "stagemetrics.end()\n",
    "\n",
    "# Print performance metrics\n",
    "print(stagemetrics.report().split('\\n')[6])"
   ]
  },
  {
   "cell_type": "code",
   "execution_count": 154,
   "id": "a0986b56",
   "metadata": {},
   "outputs": [
    {
     "name": "stdout",
     "output_type": "stream",
     "text": [
      "+----+--------------------------------------------------+-----------+\n",
      "|year|                                             title|avg(rating)|\n",
      "+----+--------------------------------------------------+-----------+\n",
      "|2005|Not Love, Just Frenzy (Más que amor, frenesí) (...|        5.0|\n",
      "|2005|Life Is Rosy (a.k.a. Life Is Beautiful) (Vie es...|        5.0|\n",
      "|2005|                          Paris Was a Woman (1995)|        5.0|\n",
      "|2005|                              Married to It (1991)|        5.0|\n",
      "|2005|                             Too Much Sleep (1997)|        5.0|\n",
      "|2005|                           Fear Strikes Out (1957)|        5.0|\n",
      "|2005|Before the Fall (NaPolA - Elite für den Führer)...|        5.0|\n",
      "|2005|                Gate of Heavenly Peace, The (1995)|        5.0|\n",
      "|2005| Take Care of My Cat (Goyangileul butaghae) (2001)|        5.0|\n",
      "|2005|                                 Dancemaker (1998)|        5.0|\n",
      "+----+--------------------------------------------------+-----------+\n",
      "\n"
     ]
    }
   ],
   "source": [
    "query_4_result.filter(query_4_result.year == 2005).show(truncate=50)"
   ]
  },
  {
   "cell_type": "markdown",
   "id": "7c04e4ac",
   "metadata": {},
   "source": [
    "### Query 5"
   ]
  },
  {
   "cell_type": "code",
   "execution_count": 172,
   "id": "82d2c9c9",
   "metadata": {},
   "outputs": [
    {
     "name": "stdout",
     "output_type": "stream",
     "text": [
      "+--------------------------------------------------+--------------------------------------------------+\n",
      "|                                             title|                                              tags|\n",
      "+--------------------------------------------------+--------------------------------------------------+\n",
      "|                           A Grain of Truth (2015)|Borys Lankosz, Abel Korzeniowski, Borys Lankosz...|\n",
      "|                        A Walk in the Woods (2015)|                                        Ken Kwapis|\n",
      "|                               Advantageous (2015)|                                    Jennifer Phang|\n",
      "|                        As We Were Dreaming (2015)|                                   based on a book|\n",
      "|                            Average Italian (2015)|                           Marcello Macchia, drugs|\n",
      "|                     Beaver Trilogy Part IV (2015)|                       Brad Besser, movie business|\n",
      "|                                   Blackhat (2015)|                                      bkk, hackers|\n",
      "|                                   Brooklyn (2015)|                               John Crowley, 1950s|\n",
      "|                                    Chappie (2015)|AI, artificial intelligence, police, robots, So...|\n",
      "|                  Chuck Norris vs Communism (2015)|                Ilinca Calugareanu, movie business|\n",
      "|                                 Cinderella (2015)|                            Cinderella, unoriginal|\n",
      "|                     Diary of a Chambermaid (2015)|                              19th century, France|\n",
      "|                           Digging for Fire (2015)|                                      Joe Swanberg|\n",
      "|                                Don Verdean (2015)|Jared Hess, Jemaine Clement, archaeology, religion|\n",
      "|                                       Dope (2015)|                                     Rick Famuyiwa|\n",
      "|Drunk Stoned Brilliant Dead: The Story of the N...|  Douglas Tirola, movie business, National Lampoon|\n",
      "|                               Experimenter (2015)|            Michael Almereyda, psychology, science|\n",
      "|                       Fifty Shades of Grey (2015)|abuse, abuse, book, erotic, bkk, BDSM, sexual o...|\n",
      "|                                      Focus (2015)|easy to watch, good sense of humour, swindle, t...|\n",
      "|                                   Get Hard (2015)|                                            prison|\n",
      "+--------------------------------------------------+--------------------------------------------------+\n",
      "only showing top 20 rows\n",
      "\n",
      "elapsedTime => 1783 (2 s)\n"
     ]
    }
   ],
   "source": [
    "from pyspark.sql.functions import *\n",
    "\n",
    "# Start measuring performance\n",
    "stagemetrics.begin()\n",
    "\n",
    "# Get the id and title of 2015 movies\n",
    "movies_2015 = movie_df.filter(movie_df.title.contains(\"(2015)\")) \\\n",
    "             .select([\"movieId\", \"title\"])\n",
    "\n",
    "# Get the tags of 2015 movies\n",
    "joined = movies_2015.join(tag_df, \"movieId\", \"inner\") \\\n",
    "                    .select([\"title\", \"tag\"]) \\\n",
    "                    .sort(\"title\")\n",
    "\n",
    "# Group tags by movie title and concatenate them\n",
    "query_5_result = joined.groupby(\"title\") \\\n",
    "                .agg(concat_ws(\", \", collect_list(joined.tag)).alias(\"tags\"))\n",
    "\n",
    "# Show results\n",
    "query_5_result.show(truncate=50)\n",
    "\n",
    "# Stop measuring performance\n",
    "stagemetrics.end()\n",
    "\n",
    "# Print performance metrics\n",
    "print(stagemetrics.report().split('\\n')[6])"
   ]
  },
  {
   "cell_type": "code",
   "execution_count": 174,
   "id": "9a923b5e",
   "metadata": {},
   "outputs": [
    {
     "name": "stdout",
     "output_type": "stream",
     "text": [
      "+--------------------------+--------------------------------------------------+\n",
      "|                     title|                                              tags|\n",
      "+--------------------------+--------------------------------------------------+\n",
      "|   A Grain of Truth (2015)|Borys Lankosz, Abel Korzeniowski, Borys Lankosz...|\n",
      "|A Walk in the Woods (2015)|                                        Ken Kwapis|\n",
      "|       Advantageous (2015)|                                    Jennifer Phang|\n",
      "|As We Were Dreaming (2015)|                                   based on a book|\n",
      "|    Average Italian (2015)|                           Marcello Macchia, drugs|\n",
      "+--------------------------+--------------------------------------------------+\n",
      "only showing top 5 rows\n",
      "\n"
     ]
    }
   ],
   "source": [
    "query_5_result.show(5, truncate=50)"
   ]
  },
  {
   "cell_type": "markdown",
   "id": "1654e5fa",
   "metadata": {},
   "source": [
    "### Query 6"
   ]
  },
  {
   "cell_type": "code",
   "execution_count": 178,
   "id": "3c9f817f",
   "metadata": {},
   "outputs": [
    {
     "name": "stdout",
     "output_type": "stream",
     "text": [
      "+--------------------+-------------+\n",
      "|               title|count(rating)|\n",
      "+--------------------+-------------+\n",
      "| Pulp Fiction (1994)|        67310|\n",
      "| Forrest Gump (1994)|        66172|\n",
      "|Shawshank Redempt...|        63366|\n",
      "|Silence of the La...|        63299|\n",
      "|Jurassic Park (1993)|        59715|\n",
      "|Star Wars: Episod...|        54502|\n",
      "|   Braveheart (1995)|        53769|\n",
      "|Terminator 2: Jud...|        52244|\n",
      "|  Matrix, The (1999)|        51334|\n",
      "|Schindler's List ...|        50054|\n",
      "|    Toy Story (1995)|        49695|\n",
      "|Fugitive, The (1993)|        49581|\n",
      "|    Apollo 13 (1995)|        47777|\n",
      "|Independence Day ...|        47048|\n",
      "|Usual Suspects, T...|        47006|\n",
      "|Star Wars: Episod...|        46839|\n",
      "|       Batman (1989)|        46054|\n",
      "|Star Wars: Episod...|        45313|\n",
      "|American Beauty (...|        44987|\n",
      "|Twelve Monkeys (a...|        44980|\n",
      "+--------------------+-------------+\n",
      "only showing top 20 rows\n",
      "\n",
      "elapsedTime => 32063 (32 s)\n"
     ]
    }
   ],
   "source": [
    "# Start measuring performance\n",
    "stagemetrics.begin()\n",
    "\n",
    "# Group rating by movieId and get movie title from inner join\n",
    "query_6_result = rating_df \\\n",
    "                .groupBy(\"movieId\") \\\n",
    "                .agg({\"rating\": \"count\"}) \\\n",
    "                .join(movie_df, \"movieId\", \"inner\") \\\n",
    "                .select([\"title\", \"count(rating)\"]) \\\n",
    "                .sort(\"count(rating)\", ascending=False)\n",
    "\n",
    "# Show results\n",
    "query_6_result.show()\n",
    "\n",
    "# Stop measuring performance\n",
    "stagemetrics.end()\n",
    "\n",
    "# Print performance metrics\n",
    "print(stagemetrics.report().split('\\n')[6])"
   ]
  },
  {
   "cell_type": "code",
   "execution_count": 180,
   "id": "9a332e5f",
   "metadata": {},
   "outputs": [
    {
     "name": "stdout",
     "output_type": "stream",
     "text": [
      "+--------------------------------+-------------+\n",
      "|                           title|count(rating)|\n",
      "+--------------------------------+-------------+\n",
      "|             Pulp Fiction (1994)|        67310|\n",
      "|             Forrest Gump (1994)|        66172|\n",
      "|Shawshank Redemption, The (1994)|        63366|\n",
      "|Silence of the Lambs, The (1991)|        63299|\n",
      "|            Jurassic Park (1993)|        59715|\n",
      "+--------------------------------+-------------+\n",
      "only showing top 5 rows\n",
      "\n"
     ]
    }
   ],
   "source": [
    "# Show result for report\n",
    "query_6_result.show(5, truncate=50)"
   ]
  },
  {
   "cell_type": "markdown",
   "id": "ac254aac",
   "metadata": {},
   "source": [
    "### Query 7"
   ]
  },
  {
   "cell_type": "code",
   "execution_count": 186,
   "id": "5d6b3bb8",
   "metadata": {},
   "outputs": [
    {
     "name": "stdout",
     "output_type": "stream",
     "text": [
      "+----+------+-------------+\n",
      "|year|userId|count(rating)|\n",
      "+----+------+-------------+\n",
      "|1995|131160|            3|\n",
      "|1995| 28507|            1|\n",
      "|1996| 25878|          800|\n",
      "|1996|  1931|          722|\n",
      "|1996| 46663|          669|\n",
      "|1996|107732|          657|\n",
      "|1996| 24214|          624|\n",
      "|1996| 41389|          605|\n",
      "|1996| 19067|          605|\n",
      "|1996|  4548|          589|\n",
      "|1996| 46146|          570|\n",
      "|1996| 81218|          510|\n",
      "|1997|124052|         1352|\n",
      "|1997|128653|         1141|\n",
      "|1997|  5814|          849|\n",
      "|1997| 64778|          655|\n",
      "|1997| 83343|          583|\n",
      "|1997|101971|          559|\n",
      "|1997| 34962|          526|\n",
      "|1997| 19954|          522|\n",
      "+----+------+-------------+\n",
      "only showing top 20 rows\n",
      "\n"
     ]
    }
   ],
   "source": [
    "# Start measuring performance\n",
    "stagemetrics.begin()\n",
    "\n",
    "# Group by year and userId and count the ratings for each group\n",
    "grouped_data = rating_df.withColumn(\"year\", year(rating_df[\"timestamp\"])) \\\n",
    "              .groupBy([\"year\", \"userId\"]) \\\n",
    "              .agg({\"rating\": \"count\"})\n",
    "\n",
    "# Create a window to limit ratings\n",
    "window = Window.partitionBy(grouped_data[\"year\"]) \\\n",
    "        .orderBy(grouped_data[\"count(rating)\"] \\\n",
    "        .desc())\n",
    "\n",
    "# Limit the ratings in each group\n",
    "query_7_results = grouped_data.select('*', row_number().over(window).alias('row_number')) \\\n",
    "                              .filter(col('row_number') <= 10) \\\n",
    "                              .select([\"year\", \"userId\", \"count(rating)\"]) \\\n",
    "                              .sort([\"year\", \"count(rating)\"], ascending = [True, False])\n",
    "\n",
    "# Show results\n",
    "query_7_results.show()\n",
    "\n",
    "# Stop measuring performance\n",
    "stagemetrics.end()\n",
    "\n",
    "# Print performance metrics\n",
    "print(stagemetrics.report().split('\\n')[6])"
   ]
  },
  {
   "cell_type": "code",
   "execution_count": 188,
   "id": "03707ed3",
   "metadata": {},
   "outputs": [
    {
     "name": "stdout",
     "output_type": "stream",
     "text": [
      "+----+------+-------------+\n",
      "|year|userId|count(rating)|\n",
      "+----+------+-------------+\n",
      "|1995| 28507|            1|\n",
      "|1995|131160|            3|\n",
      "+----+------+-------------+\n",
      "\n"
     ]
    }
   ],
   "source": [
    "# Show results for report\n",
    "query_7_results.filter(query_7_results.year == 1995).sort([\"year\", \"userId\"], ascending = [True, True]).show()"
   ]
  },
  {
   "cell_type": "markdown",
   "id": "44668e5b",
   "metadata": {},
   "source": [
    "### Query 8"
   ]
  },
  {
   "cell_type": "code",
   "execution_count": 244,
   "id": "7d1df9d5",
   "metadata": {},
   "outputs": [
    {
     "name": "stdout",
     "output_type": "stream",
     "text": [
      "+-----------+--------------------+-------------+\n",
      "|      genre|               title|total_ratings|\n",
      "+-----------+--------------------+-------------+\n",
      "|     Action|Jurassic Park (1993)|        59715|\n",
      "|  Adventure|    Toy Story (1995)|        49695|\n",
      "|  Animation|Beauty and the Be...|        35138|\n",
      "|   Children|E.T. the Extra-Te...|        32685|\n",
      "|     Comedy| Pulp Fiction (1994)|        67310|\n",
      "|      Crime|Shawshank Redempt...|        63366|\n",
      "|Documentary|Bowling for Colum...|        12280|\n",
      "|      Drama|Schindler's List ...|        50054|\n",
      "|    Fantasy|       Brazil (1985)|        13957|\n",
      "|  Film-Noir|Maltese Falcon, T...|        12144|\n",
      "|     Horror|        Alien (1979)|        30933|\n",
      "|       IMAX|Encounter in the ...|           30|\n",
      "|    Musical|Sound of Music, T...|        14049|\n",
      "|    Mystery|Twelve Monkeys (a...|        44980|\n",
      "|    Romance|Meet Joe Black (1...|         5210|\n",
      "|     Sci-Fi|Mission to Mars (...|         6365|\n",
      "|   Thriller|Fugitive, The (1993)|        49581|\n",
      "|        War|Run Silent Run De...|         1306|\n",
      "|    Western|   Wyatt Earp (1994)|         5025|\n",
      "+-----------+--------------------+-------------+\n",
      "\n",
      "elapsedTime => 32721 (33 s)\n"
     ]
    }
   ],
   "source": [
    "# Start measuring performance\n",
    "stagemetrics.begin()\n",
    "\n",
    "first_genre = movie_df \\\n",
    "             .select('*', split(movie_df.genres, '[|]')[0].alias(\"genre\")) \\\n",
    "             .drop(\"genres\")\n",
    "\n",
    "# Get total ratings by movie\n",
    "total_ratings_by_movie = first_genre \\\n",
    "                        .join(rating_df, \"movieId\", \"inner\") \\\n",
    "                        .groupBy([\"genre\", \"title\"]) \\\n",
    "                        .agg({\"*\": \"count\"}) \\\n",
    "                        .withColumnRenamed(\"count(1)\", \"total_ratings\")\n",
    "\n",
    "# Create a window to limit total ratings\n",
    "window = Window.partitionBy(total_ratings_by_movie[\"genre\"]) \\\n",
    "        .orderBy(total_ratings_by_movie[\"total_ratings\"] \\\n",
    "        .desc())\n",
    "\n",
    "# Limit the total ratings in each group\n",
    "query_8_results = total_ratings_by_movie \\\n",
    "                  .select('*', row_number().over(window).alias('row_number')) \\\n",
    "                  .filter(col('row_number') <= 1) \\\n",
    "                  .select([\"genre\", \"title\", \"total_ratings\"]) \\\n",
    "                  .sort([\"genre\"]) \\\n",
    "                  .filter(total_ratings_by_movie.genre != \"(no genres listed)\")\n",
    "\n",
    "# Show results\n",
    "query_8_results.show()\n",
    "\n",
    "# Stop measuring performance\n",
    "stagemetrics.end()\n",
    "\n",
    "# Print performance metrics\n",
    "print(stagemetrics.report().split('\\n')[6])"
   ]
  },
  {
   "cell_type": "code",
   "execution_count": 245,
   "id": "61896f36",
   "metadata": {},
   "outputs": [
    {
     "name": "stdout",
     "output_type": "stream",
     "text": [
      "+---------+---------------------------------+\n",
      "|    genre|                            title|\n",
      "+---------+---------------------------------+\n",
      "|   Action|             Jurassic Park (1993)|\n",
      "|Adventure|                 Toy Story (1995)|\n",
      "|Animation|      Beauty and the Beast (1991)|\n",
      "| Children|E.T. the Extra-Terrestrial (1982)|\n",
      "|   Comedy|              Pulp Fiction (1994)|\n",
      "+---------+---------------------------------+\n",
      "only showing top 5 rows\n",
      "\n"
     ]
    }
   ],
   "source": [
    "# Show results for report\n",
    "query_8_results.drop(\"total_ratings\").show(5, truncate=100)"
   ]
  },
  {
   "cell_type": "code",
   "execution_count": null,
   "id": "8cdf8f5c",
   "metadata": {},
   "outputs": [],
   "source": []
  }
 ],
 "metadata": {
  "kernelspec": {
   "display_name": "Python 3",
   "language": "python",
   "name": "python3"
  },
  "language_info": {
   "codemirror_mode": {
    "name": "ipython",
    "version": 3
   },
   "file_extension": ".py",
   "mimetype": "text/x-python",
   "name": "python",
   "nbconvert_exporter": "python",
   "pygments_lexer": "ipython3",
   "version": "3.6.9"
  }
 },
 "nbformat": 4,
 "nbformat_minor": 5
}
