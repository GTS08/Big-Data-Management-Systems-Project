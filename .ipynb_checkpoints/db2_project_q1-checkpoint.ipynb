{
 "cells": [
  {
   "cell_type": "markdown",
   "id": "1d4f57b9",
   "metadata": {},
   "source": [
    "# Question 1"
   ]
  },
  {
   "cell_type": "markdown",
   "id": "88092709",
   "metadata": {},
   "source": [
    "## Initiate Spark"
   ]
  },
  {
   "cell_type": "code",
   "execution_count": 1,
   "id": "6a1ce091",
   "metadata": {},
   "outputs": [],
   "source": [
    "from pyspark.sql import SparkSession\n",
    "from sparkmeasure import StageMetrics\n",
    "from pyspark.sql.functions import lower\n",
    "\n",
    "# Create a new Spark Session\n",
    "spark = SparkSession \\\n",
    "    .builder \\\n",
    "    .appName(\"Movies\") \\\n",
    "    .config(\"spark.jars\", \"spark-measure_2.11-0.17.jar\") \\\n",
    "    .getOrCreate()\n",
    "\n",
    "# Create spark metrics object\n",
    "stagemetrics = StageMetrics(spark)"
   ]
  },
  {
   "cell_type": "code",
   "execution_count": 2,
   "id": "b539b66c",
   "metadata": {},
   "outputs": [
    {
     "data": {
      "text/html": [
       "\n",
       "            <div>\n",
       "                <p><b>SparkSession - in-memory</b></p>\n",
       "                \n",
       "        <div>\n",
       "            <p><b>SparkContext</b></p>\n",
       "\n",
       "            <p><a href=\"http://10.0.2.15:4040\">Spark UI</a></p>\n",
       "\n",
       "            <dl>\n",
       "              <dt>Version</dt>\n",
       "                <dd><code>v2.4.8</code></dd>\n",
       "              <dt>Master</dt>\n",
       "                <dd><code>local[*]</code></dd>\n",
       "              <dt>AppName</dt>\n",
       "                <dd><code>Movies</code></dd>\n",
       "            </dl>\n",
       "        </div>\n",
       "        \n",
       "            </div>\n",
       "        "
      ],
      "text/plain": [
       "<pyspark.sql.session.SparkSession at 0x7f7f0a739ac8>"
      ]
     },
     "execution_count": 2,
     "metadata": {},
     "output_type": "execute_result"
    }
   ],
   "source": [
    "spark"
   ]
  },
  {
   "cell_type": "markdown",
   "id": "99e12638",
   "metadata": {},
   "source": [
    "## Load Datasets To Dataframes"
   ]
  },
  {
   "cell_type": "markdown",
   "id": "7100fdec",
   "metadata": {},
   "source": [
    "### Movie Dataframe"
   ]
  },
  {
   "cell_type": "code",
   "execution_count": 47,
   "id": "5a05bee1",
   "metadata": {},
   "outputs": [],
   "source": [
    "movie_df = (spark.read\n",
    "            .format(\"csv\")\n",
    "            .option(\"header\", \"true\")\n",
    "            .option(\"delimiter\", \",\")\n",
    "            .option(\"inferSchema\", \"true\")\n",
    "            .load(\"datasets/movie.csv\")\n",
    "           )"
   ]
  },
  {
   "cell_type": "code",
   "execution_count": 4,
   "id": "24ea2515",
   "metadata": {},
   "outputs": [
    {
     "name": "stdout",
     "output_type": "stream",
     "text": [
      "+-------+--------------------+--------------------+\n",
      "|movieId|               title|              genres|\n",
      "+-------+--------------------+--------------------+\n",
      "|      1|    Toy Story (1995)|Adventure|Animati...|\n",
      "|      2|      Jumanji (1995)|Adventure|Childre...|\n",
      "|      3|Grumpier Old Men ...|      Comedy|Romance|\n",
      "|      4|Waiting to Exhale...|Comedy|Drama|Romance|\n",
      "|      5|Father of the Bri...|              Comedy|\n",
      "+-------+--------------------+--------------------+\n",
      "only showing top 5 rows\n",
      "\n"
     ]
    }
   ],
   "source": [
    "movie_df.show(5)"
   ]
  },
  {
   "cell_type": "markdown",
   "id": "4d0bdd23",
   "metadata": {},
   "source": [
    "### Rating Dataframe"
   ]
  },
  {
   "cell_type": "code",
   "execution_count": 50,
   "id": "ad6ae512",
   "metadata": {},
   "outputs": [],
   "source": [
    "rating_df = (spark.read\n",
    "            .format(\"csv\")\n",
    "            .option(\"header\", \"true\")\n",
    "            .option(\"delimiter\", \",\")\n",
    "            .option(\"inferSchema\", \"true\")\n",
    "            .load(\"datasets/rating.csv\")\n",
    "           )"
   ]
  },
  {
   "cell_type": "code",
   "execution_count": 51,
   "id": "9e76d432",
   "metadata": {},
   "outputs": [
    {
     "name": "stdout",
     "output_type": "stream",
     "text": [
      "root\n",
      " |-- userId: integer (nullable = true)\n",
      " |-- movieId: integer (nullable = true)\n",
      " |-- rating: double (nullable = true)\n",
      " |-- timestamp: timestamp (nullable = true)\n",
      "\n"
     ]
    }
   ],
   "source": [
    "rating_df.printSchema()"
   ]
  },
  {
   "cell_type": "code",
   "execution_count": 6,
   "id": "169faf21",
   "metadata": {},
   "outputs": [
    {
     "name": "stdout",
     "output_type": "stream",
     "text": [
      "+------+-------+------+-------------------+\n",
      "|userId|movieId|rating|          timestamp|\n",
      "+------+-------+------+-------------------+\n",
      "|     1|      2|   3.5|2005-04-02 23:53:47|\n",
      "|     1|     29|   3.5|2005-04-02 23:31:16|\n",
      "|     1|     32|   3.5|2005-04-02 23:33:39|\n",
      "|     1|     47|   3.5|2005-04-02 23:32:07|\n",
      "|     1|     50|   3.5|2005-04-02 23:29:40|\n",
      "+------+-------+------+-------------------+\n",
      "only showing top 5 rows\n",
      "\n"
     ]
    }
   ],
   "source": [
    "rating_df.show(5)"
   ]
  },
  {
   "cell_type": "markdown",
   "id": "6e682663",
   "metadata": {},
   "source": [
    "### Tag Dataframe"
   ]
  },
  {
   "cell_type": "code",
   "execution_count": 48,
   "id": "382ffb43",
   "metadata": {},
   "outputs": [],
   "source": [
    "tag_df = (spark.read\n",
    "            .format(\"csv\")\n",
    "            .option(\"header\", \"true\")\n",
    "            .option(\"delimiter\", \",\")\n",
    "            .option(\"inferSchema\", \"true\") \n",
    "            .load(\"datasets/tag.csv\")\n",
    "           )"
   ]
  },
  {
   "cell_type": "code",
   "execution_count": 8,
   "id": "2e94c581",
   "metadata": {},
   "outputs": [
    {
     "name": "stdout",
     "output_type": "stream",
     "text": [
      "+------+-------+-------------+-------------------+\n",
      "|userId|movieId|          tag|          timestamp|\n",
      "+------+-------+-------------+-------------------+\n",
      "|    18|   4141|  Mark Waters|2009-04-24 18:19:40|\n",
      "|    65|    208|    dark hero|2013-05-10 01:41:18|\n",
      "|    65|    353|    dark hero|2013-05-10 01:41:19|\n",
      "|    65|    521|noir thriller|2013-05-10 01:39:43|\n",
      "|    65|    592|    dark hero|2013-05-10 01:41:18|\n",
      "+------+-------+-------------+-------------------+\n",
      "only showing top 5 rows\n",
      "\n"
     ]
    }
   ],
   "source": [
    "tag_df.show(5)"
   ]
  },
  {
   "cell_type": "markdown",
   "id": "d8c1460c",
   "metadata": {},
   "source": [
    "### Genome Tags Dataframe"
   ]
  },
  {
   "cell_type": "code",
   "execution_count": 49,
   "id": "e6dfdd2f",
   "metadata": {},
   "outputs": [],
   "source": [
    "genome_tags_df = (spark.read\n",
    "            .format(\"csv\")\n",
    "            .option(\"header\", \"true\")\n",
    "            .option(\"delimiter\", \",\")\n",
    "            .option(\"inferSchema\", \"true\") \n",
    "            .load(\"datasets/genome_tags.csv\")\n",
    "           )"
   ]
  },
  {
   "cell_type": "code",
   "execution_count": 10,
   "id": "b0437538",
   "metadata": {},
   "outputs": [
    {
     "name": "stdout",
     "output_type": "stream",
     "text": [
      "+-----+------------+\n",
      "|tagId|         tag|\n",
      "+-----+------------+\n",
      "|    1|         007|\n",
      "|    2|007 (series)|\n",
      "|    3|18th century|\n",
      "|    4|       1920s|\n",
      "|    5|       1930s|\n",
      "+-----+------------+\n",
      "only showing top 5 rows\n",
      "\n"
     ]
    }
   ],
   "source": [
    "genome_tags_df.show(5)"
   ]
  },
  {
   "cell_type": "markdown",
   "id": "d91b87b7",
   "metadata": {},
   "source": [
    "## Queries"
   ]
  },
  {
   "cell_type": "markdown",
   "id": "07484e61",
   "metadata": {},
   "source": [
    "### Query 1"
   ]
  },
  {
   "cell_type": "code",
   "execution_count": 11,
   "id": "4b573c08",
   "metadata": {},
   "outputs": [
    {
     "name": "stdout",
     "output_type": "stream",
     "text": [
      "elapsedTime => 36913 (37 s)\n"
     ]
    }
   ],
   "source": [
    "# Start measuring performance\n",
    "stagemetrics.begin()\n",
    "\n",
    "# Get the id of the movie \"Jumanji\"\n",
    "jumanji_id = movie_df.filter(movie_df.title.contains(\"Jumanji\")) \\\n",
    "            .select(\"movieId\") \\\n",
    "            .collect()[0][\"movieId\"]\n",
    "\n",
    "# Get the number of users that watched \"Jumanji\"\n",
    "watched_jumanji = rating_df.filter(rating_df[\"movieId\"] == jumanji_id) \\\n",
    "                 .count()\n",
    "\n",
    "# Stop measuring performance\n",
    "stagemetrics.end()\n",
    "\n",
    "# Print performance metrics\n",
    "print(stagemetrics.report().split('\\n')[6])"
   ]
  },
  {
   "cell_type": "code",
   "execution_count": 12,
   "id": "5c52d09e",
   "metadata": {},
   "outputs": [
    {
     "data": {
      "text/plain": [
       "22243"
      ]
     },
     "execution_count": 12,
     "metadata": {},
     "output_type": "execute_result"
    }
   ],
   "source": [
    "watched_jumanji"
   ]
  },
  {
   "cell_type": "markdown",
   "id": "75658047",
   "metadata": {},
   "source": [
    "### Query 2"
   ]
  },
  {
   "cell_type": "code",
   "execution_count": 52,
   "id": "621372b4",
   "metadata": {},
   "outputs": [
    {
     "name": "stdout",
     "output_type": "stream",
     "text": [
      "\n",
      "Scheduling mode = FIFO\n",
      "Spark Context default degree of parallelism = 4\n",
      " no data to report \n"
     ]
    }
   ],
   "source": [
    "# Start measuring performance\n",
    "stagemetrics.begin()\n",
    "\n",
    "# Get the movieIds with tags containing the word \"boring\"\n",
    "unique_boring_movieIds = tag_df.filter(lower(tag_df[\"tag\"]).contains(\"boring\")) \\\n",
    "                        .select(\"movieId\") \\\n",
    "                        .dropDuplicates()\n",
    "\n",
    "# Get the corresponding movie titles from movieIds in alphabetical order\n",
    "unique_boring_movie_titles = unique_boring_movieIds \\\n",
    "                            .join(movie_df, \"movieId\", \"inner\") \\\n",
    "                            .select(movie_df.title) \\\n",
    "                            .sort(movie_df.title)\n",
    "\n",
    "# Stop measuring performance\n",
    "stagemetrics.end()\n",
    "\n",
    "# Print performance metrics\n",
    "stagemetrics.print_report()\n",
    "#print(stagemetrics.report().split('\\n')[6])"
   ]
  },
  {
   "cell_type": "code",
   "execution_count": 53,
   "id": "ea96446d",
   "metadata": {},
   "outputs": [
    {
     "name": "stdout",
     "output_type": "stream",
     "text": [
      "+--------------------+\n",
      "|               title|\n",
      "+--------------------+\n",
      "|(500) Days of Sum...|\n",
      "|101 Reykjavik (10...|\n",
      "|12 Years a Slave ...|\n",
      "|         1408 (2007)|\n",
      "|1492: Conquest of...|\n",
      "+--------------------+\n",
      "only showing top 5 rows\n",
      "\n"
     ]
    }
   ],
   "source": [
    "unique_boring_movie_titles.show(5)"
   ]
  },
  {
   "cell_type": "markdown",
   "id": "3c20dd09",
   "metadata": {},
   "source": [
    "### Query 3"
   ]
  },
  {
   "cell_type": "code",
   "execution_count": 57,
   "id": "068480b1",
   "metadata": {},
   "outputs": [
    {
     "name": "stdout",
     "output_type": "stream",
     "text": [
      "\n",
      "Scheduling mode = FIFO\n",
      "Spark Context default degree of parallelism = 4\n",
      " no data to report \n"
     ]
    }
   ],
   "source": [
    "# Start measuring performance\n",
    "stagemetrics.begin()\n",
    "\n",
    "# Get the userIds and movieIds with tags containing the word \"bollywood\"\n",
    "bollywood_userIds_movieIds = tag_df.filter(lower(tag_df[\"tag\"]).contains(\"bollywood\")) \\\n",
    "                                   .select([\"userId\", \"movieId\", \"tag\"])\n",
    "\n",
    "# Get all userIds and movieIds with rating above 3\n",
    "above_3_rating = rating_df.filter(rating_df.rating > 3) \\\n",
    "                          .select([\"userId\", \"movieId\", \"rating\"])\n",
    "\n",
    "# Inner join based on unique combination of userId and movieId\n",
    "query_3_result = bollywood_userIds_movieIds \\\n",
    "                .join(above_3_rating, [\"userId\", \"movieId\"], \"inner\") \\\n",
    "                .select(\"userId\") \\\n",
    "                .dropDuplicates() \\\n",
    "                .sort(above_3_rating.userId)\n",
    "\n",
    "# Stop measuring performance\n",
    "stagemetrics.end()\n",
    "\n",
    "# Print performance metrics\n",
    "stagemetrics.print_report()\n",
    "#print(stagemetrics.report().split('\\n')[6])"
   ]
  },
  {
   "cell_type": "code",
   "execution_count": 58,
   "id": "e2e4baea",
   "metadata": {},
   "outputs": [
    {
     "name": "stdout",
     "output_type": "stream",
     "text": [
      "+------+\n",
      "|userId|\n",
      "+------+\n",
      "| 10573|\n",
      "| 19837|\n",
      "| 23333|\n",
      "| 25004|\n",
      "| 31338|\n",
      "+------+\n",
      "only showing top 5 rows\n",
      "\n"
     ]
    }
   ],
   "source": [
    "query_3_result.show(5)"
   ]
  },
  {
   "cell_type": "markdown",
   "id": "16e7cbe3",
   "metadata": {},
   "source": [
    " ### Query 4"
   ]
  },
  {
   "cell_type": "code",
   "execution_count": 153,
   "id": "69b1ad0e",
   "metadata": {
    "scrolled": false
   },
   "outputs": [
    {
     "name": "stdout",
     "output_type": "stream",
     "text": [
      "+----+--------------------+-----------+\n",
      "|year|               title|avg(rating)|\n",
      "+----+--------------------+-----------+\n",
      "|2005|Not Love, Just Fr...|        5.0|\n",
      "|2005|Life Is Rosy (a.k...|        5.0|\n",
      "|2005|Paris Was a Woman...|        5.0|\n",
      "|2005|Married to It (1991)|        5.0|\n",
      "|2005|Too Much Sleep (1...|        5.0|\n",
      "|2005|Fear Strikes Out ...|        5.0|\n",
      "|2005|Before the Fall (...|        5.0|\n",
      "|2005|Gate of Heavenly ...|        5.0|\n",
      "|2005|Take Care of My C...|        5.0|\n",
      "|2005|   Dancemaker (1998)|        5.0|\n",
      "+----+--------------------+-----------+\n",
      "\n",
      "\n",
      "Scheduling mode = FIFO\n",
      "Spark Context default degree of parallelism = 4\n",
      "Aggregated Spark stage metrics:\n",
      "numStages => 7\n",
      "numTasks => 609\n",
      "elapsedTime => 123180 (2.1 min)\n",
      "stageDuration => 122907 (2.0 min)\n",
      "executorRunTime => 353706 (5.9 min)\n",
      "executorCpuTime => 328093 (5.5 min)\n",
      "executorDeserializeTime => 2009 (2 s)\n",
      "executorDeserializeCpuTime => 1683 (2 s)\n",
      "resultSerializationTime => 20 (20 ms)\n",
      "jvmGCTime => 5703 (6 s)\n",
      "shuffleFetchWaitTime => 0 (0 ms)\n",
      "shuffleWriteTime => 1368 (1 s)\n",
      "resultSize => 879015 (858.0 KB)\n",
      "diskBytesSpilled => 0 (0 Bytes)\n",
      "memoryBytesSpilled => 0 (0 Bytes)\n",
      "peakExecutionMemory => 891289600\n",
      "recordsRead => 20027541\n",
      "bytesRead => 692174705 (660.0 MB)\n",
      "recordsWritten => 0\n",
      "bytesWritten => 0 (0 Bytes)\n",
      "shuffleRecordsRead => 59072\n",
      "shuffleTotalBlocksFetched => 1601\n",
      "shuffleLocalBlocksFetched => 1601\n",
      "shuffleRemoteBlocksFetched => 0\n",
      "shuffleTotalBytesRead => 980622 (957.0 KB)\n",
      "shuffleLocalBytesRead => 980622 (957.0 KB)\n",
      "shuffleRemoteBytesRead => 0 (0 Bytes)\n",
      "shuffleRemoteBytesReadToDisk => 0 (0 Bytes)\n",
      "shuffleBytesWritten => 850725 (830.0 KB)\n",
      "shuffleRecordsWritten => 50563\n"
     ]
    }
   ],
   "source": [
    "from pyspark.sql.functions import lower, year\n",
    "from pyspark.sql.functions import rank, col, row_number\n",
    "from pyspark.sql.window import Window\n",
    "\n",
    "# Start measuring performance\n",
    "stagemetrics.begin()\n",
    "\n",
    "# Group by year and movieId and find the mean value of rating\n",
    "grouped_data = rating_df.withColumn(\"year\", year(rating_df[\"timestamp\"])) \\\n",
    "              .groupBy([\"year\", \"movieId\"]) \\\n",
    "              .agg({\"rating\": \"mean\"})\n",
    "              \n",
    "# Create a window to limit ratings\n",
    "window = Window.partitionBy(grouped_data[\"year\"]) \\\n",
    "        .orderBy(grouped_data[\"avg(rating)\"] \\\n",
    "        .desc())\n",
    "\n",
    "# Limit the ratings in each group\n",
    "grouped_data_limited = grouped_data.select('*', row_number().over(window).alias('row_number')) \\\n",
    "                      .filter(col('row_number') <= 10) \\\n",
    "                      .sort([\"year\", \"avg(rating)\"], ascending = [True, False])\n",
    "\n",
    "# Get the movie titles\n",
    "query_4_result = grouped_data_limited.join(movie_df, \"movieId\", \"inner\") \\\n",
    "                .select([\"year\", \"title\", \"avg(rating)\"])\n",
    "\n",
    "# Show results\n",
    "query_4_result.show()\n",
    "\n",
    "# Stop measuring performance\n",
    "stagemetrics.end()\n",
    "\n",
    "# Print performance metrics\n",
    "print(stagemetrics.report().split('\\n')[6])"
   ]
  },
  {
   "cell_type": "code",
   "execution_count": 154,
   "id": "de15568f",
   "metadata": {},
   "outputs": [
    {
     "name": "stdout",
     "output_type": "stream",
     "text": [
      "+----+--------------------------------------------------+-----------+\n",
      "|year|                                             title|avg(rating)|\n",
      "+----+--------------------------------------------------+-----------+\n",
      "|2005|Not Love, Just Frenzy (Más que amor, frenesí) (...|        5.0|\n",
      "|2005|Life Is Rosy (a.k.a. Life Is Beautiful) (Vie es...|        5.0|\n",
      "|2005|                          Paris Was a Woman (1995)|        5.0|\n",
      "|2005|                              Married to It (1991)|        5.0|\n",
      "|2005|                             Too Much Sleep (1997)|        5.0|\n",
      "|2005|                           Fear Strikes Out (1957)|        5.0|\n",
      "|2005|Before the Fall (NaPolA - Elite für den Führer)...|        5.0|\n",
      "|2005|                Gate of Heavenly Peace, The (1995)|        5.0|\n",
      "|2005| Take Care of My Cat (Goyangileul butaghae) (2001)|        5.0|\n",
      "|2005|                                 Dancemaker (1998)|        5.0|\n",
      "+----+--------------------------------------------------+-----------+\n",
      "\n"
     ]
    }
   ],
   "source": [
    "query_4_result.filter(query_4_result.year == 2005).show(truncate=50)"
   ]
  },
  {
   "cell_type": "markdown",
   "id": "e1f7705a",
   "metadata": {},
   "source": [
    "### Query 5"
   ]
  },
  {
   "cell_type": "code",
   "execution_count": 172,
   "id": "723af942",
   "metadata": {},
   "outputs": [
    {
     "name": "stdout",
     "output_type": "stream",
     "text": [
      "+--------------------------------------------------+--------------------------------------------------+\n",
      "|                                             title|                                              tags|\n",
      "+--------------------------------------------------+--------------------------------------------------+\n",
      "|                           A Grain of Truth (2015)|Borys Lankosz, Abel Korzeniowski, Borys Lankosz...|\n",
      "|                        A Walk in the Woods (2015)|                                        Ken Kwapis|\n",
      "|                               Advantageous (2015)|                                    Jennifer Phang|\n",
      "|                        As We Were Dreaming (2015)|                                   based on a book|\n",
      "|                            Average Italian (2015)|                           Marcello Macchia, drugs|\n",
      "|                     Beaver Trilogy Part IV (2015)|                       Brad Besser, movie business|\n",
      "|                                   Blackhat (2015)|                                      bkk, hackers|\n",
      "|                                   Brooklyn (2015)|                               John Crowley, 1950s|\n",
      "|                                    Chappie (2015)|AI, artificial intelligence, police, robots, So...|\n",
      "|                  Chuck Norris vs Communism (2015)|                Ilinca Calugareanu, movie business|\n",
      "|                                 Cinderella (2015)|                            Cinderella, unoriginal|\n",
      "|                     Diary of a Chambermaid (2015)|                              19th century, France|\n",
      "|                           Digging for Fire (2015)|                                      Joe Swanberg|\n",
      "|                                Don Verdean (2015)|Jared Hess, Jemaine Clement, archaeology, religion|\n",
      "|                                       Dope (2015)|                                     Rick Famuyiwa|\n",
      "|Drunk Stoned Brilliant Dead: The Story of the N...|  Douglas Tirola, movie business, National Lampoon|\n",
      "|                               Experimenter (2015)|            Michael Almereyda, psychology, science|\n",
      "|                       Fifty Shades of Grey (2015)|abuse, abuse, book, erotic, bkk, BDSM, sexual o...|\n",
      "|                                      Focus (2015)|easy to watch, good sense of humour, swindle, t...|\n",
      "|                                   Get Hard (2015)|                                            prison|\n",
      "+--------------------------------------------------+--------------------------------------------------+\n",
      "only showing top 20 rows\n",
      "\n",
      "elapsedTime => 1783 (2 s)\n"
     ]
    }
   ],
   "source": [
    "from pyspark.sql.functions import *\n",
    "\n",
    "# Start measuring performance\n",
    "stagemetrics.begin()\n",
    "\n",
    "# Get the id and title of 2015 movies\n",
    "movies_2015 = movie_df.filter(movie_df.title.contains(\"(2015)\")) \\\n",
    "             .select([\"movieId\", \"title\"])\n",
    "\n",
    "# Get the tags of 2015 movies\n",
    "joined = movies_2015.join(tag_df, \"movieId\", \"inner\") \\\n",
    "                    .select([\"title\", \"tag\"]) \\\n",
    "                    .sort(\"title\")\n",
    "\n",
    "# Group tags by movie title and concatenate them\n",
    "query_5_result = joined.groupby(\"title\") \\\n",
    "                .agg(concat_ws(\", \", collect_list(joined.tag)).alias(\"tags\"))\n",
    "\n",
    "# Show results\n",
    "query_5_result.show(truncate=50)\n",
    "\n",
    "# Stop measuring performance\n",
    "stagemetrics.end()\n",
    "\n",
    "# Print performance metrics\n",
    "print(stagemetrics.report().split('\\n')[6])"
   ]
  },
  {
   "cell_type": "code",
   "execution_count": 174,
   "id": "07f83f5b",
   "metadata": {},
   "outputs": [
    {
     "name": "stdout",
     "output_type": "stream",
     "text": [
      "+--------------------------+--------------------------------------------------+\n",
      "|                     title|                                              tags|\n",
      "+--------------------------+--------------------------------------------------+\n",
      "|   A Grain of Truth (2015)|Borys Lankosz, Abel Korzeniowski, Borys Lankosz...|\n",
      "|A Walk in the Woods (2015)|                                        Ken Kwapis|\n",
      "|       Advantageous (2015)|                                    Jennifer Phang|\n",
      "|As We Were Dreaming (2015)|                                   based on a book|\n",
      "|    Average Italian (2015)|                           Marcello Macchia, drugs|\n",
      "+--------------------------+--------------------------------------------------+\n",
      "only showing top 5 rows\n",
      "\n"
     ]
    }
   ],
   "source": [
    "query_5_result.show(5, truncate=50)"
   ]
  },
  {
   "cell_type": "markdown",
   "id": "369be164",
   "metadata": {},
   "source": [
    "### Query 6"
   ]
  },
  {
   "cell_type": "code",
   "execution_count": null,
   "id": "08cc1ff5",
   "metadata": {},
   "outputs": [],
   "source": []
  }
 ],
 "metadata": {
  "kernelspec": {
   "display_name": "Python 3",
   "language": "python",
   "name": "python3"
  },
  "language_info": {
   "codemirror_mode": {
    "name": "ipython",
    "version": 3
   },
   "file_extension": ".py",
   "mimetype": "text/x-python",
   "name": "python",
   "nbconvert_exporter": "python",
   "pygments_lexer": "ipython3",
   "version": "3.6.9"
  }
 },
 "nbformat": 4,
 "nbformat_minor": 5
}
