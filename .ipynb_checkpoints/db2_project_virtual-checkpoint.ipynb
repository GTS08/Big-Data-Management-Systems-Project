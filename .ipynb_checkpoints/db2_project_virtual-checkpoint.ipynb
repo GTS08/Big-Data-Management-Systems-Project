{
 "cells": [
  {
   "cell_type": "markdown",
   "id": "1d4f57b9",
   "metadata": {},
   "source": [
    "# Question 1"
   ]
  },
  {
   "cell_type": "markdown",
   "id": "88092709",
   "metadata": {},
   "source": [
    "## Initiate Spark"
   ]
  },
  {
   "cell_type": "code",
   "execution_count": 1,
   "id": "6a1ce091",
   "metadata": {},
   "outputs": [],
   "source": [
    "from pyspark.sql import SparkSession\n",
    "from sparkmeasure import StageMetrics\n",
    "from pyspark.sql.functions import *\n",
    "from pyspark.sql.window import Window\n",
    "\n",
    "# Create a new Spark Session\n",
    "spark = SparkSession \\\n",
    "       .builder \\\n",
    "       .master(\"spark://ubuntu:7077\") \\\n",
    "       .appName(\"movies\") \\\n",
    "       .config(\"spark.jars\", \"spark-measure_2.11-0.17.jar\") \\\n",
    "       .getOrCreate()\n",
    "\n",
    "# Create spark metrics object\n",
    "stagemetrics = StageMetrics(spark)"
   ]
  },
  {
   "cell_type": "code",
   "execution_count": 2,
   "id": "b539b66c",
   "metadata": {},
   "outputs": [
    {
     "data": {
      "text/html": [
       "\n",
       "            <div>\n",
       "                <p><b>SparkSession - in-memory</b></p>\n",
       "                \n",
       "        <div>\n",
       "            <p><b>SparkContext</b></p>\n",
       "\n",
       "            <p><a href=\"http://10.0.2.15:4041\">Spark UI</a></p>\n",
       "\n",
       "            <dl>\n",
       "              <dt>Version</dt>\n",
       "                <dd><code>v2.4.8</code></dd>\n",
       "              <dt>Master</dt>\n",
       "                <dd><code>spark://ubuntu:7077</code></dd>\n",
       "              <dt>AppName</dt>\n",
       "                <dd><code>Movies</code></dd>\n",
       "            </dl>\n",
       "        </div>\n",
       "        \n",
       "            </div>\n",
       "        "
      ],
      "text/plain": [
       "<pyspark.sql.session.SparkSession at 0x7ff248d0df60>"
      ]
     },
     "execution_count": 2,
     "metadata": {},
     "output_type": "execute_result"
    }
   ],
   "source": [
    "spark"
   ]
  },
  {
   "cell_type": "markdown",
   "id": "99e12638",
   "metadata": {},
   "source": [
    "## Load Datasets To Dataframes"
   ]
  },
  {
   "cell_type": "markdown",
   "id": "7100fdec",
   "metadata": {},
   "source": [
    "### Movie Dataframe"
   ]
  },
  {
   "cell_type": "code",
   "execution_count": 3,
   "id": "5a05bee1",
   "metadata": {},
   "outputs": [
    {
     "ename": "KeyboardInterrupt",
     "evalue": "",
     "output_type": "error",
     "traceback": [
      "\u001b[0;31m---------------------------------------------------------------------------\u001b[0m",
      "\u001b[0;31mKeyboardInterrupt\u001b[0m                         Traceback (most recent call last)",
      "\u001b[0;32m<ipython-input-3-3db11c9bda7f>\u001b[0m in \u001b[0;36m<module>\u001b[0;34m\u001b[0m\n\u001b[1;32m      5\u001b[0m            \u001b[0;34m.\u001b[0m\u001b[0moption\u001b[0m\u001b[0;34m(\u001b[0m\u001b[0;34m\"delimiter\"\u001b[0m\u001b[0;34m,\u001b[0m \u001b[0;34m\",\"\u001b[0m\u001b[0;34m)\u001b[0m\u001b[0;34m\u001b[0m\u001b[0;34m\u001b[0m\u001b[0m\n\u001b[1;32m      6\u001b[0m            \u001b[0;34m.\u001b[0m\u001b[0moption\u001b[0m\u001b[0;34m(\u001b[0m\u001b[0;34m\"inferSchema\"\u001b[0m\u001b[0;34m,\u001b[0m \u001b[0;34m\"true\"\u001b[0m\u001b[0;34m)\u001b[0m\u001b[0;34m\u001b[0m\u001b[0;34m\u001b[0m\u001b[0m\n\u001b[0;32m----> 7\u001b[0;31m            \u001b[0;34m.\u001b[0m\u001b[0mload\u001b[0m\u001b[0;34m(\u001b[0m\u001b[0;34m\"datasets/movie.csv\"\u001b[0m\u001b[0;34m)\u001b[0m\u001b[0;34m\u001b[0m\u001b[0;34m\u001b[0m\u001b[0m\n\u001b[0m\u001b[1;32m      8\u001b[0m            )\n",
      "\u001b[0;32m/usr/local/spark/python/pyspark/sql/readwriter.py\u001b[0m in \u001b[0;36mload\u001b[0;34m(self, path, format, schema, **options)\u001b[0m\n\u001b[1;32m    164\u001b[0m         \u001b[0mself\u001b[0m\u001b[0;34m.\u001b[0m\u001b[0moptions\u001b[0m\u001b[0;34m(\u001b[0m\u001b[0;34m**\u001b[0m\u001b[0moptions\u001b[0m\u001b[0;34m)\u001b[0m\u001b[0;34m\u001b[0m\u001b[0;34m\u001b[0m\u001b[0m\n\u001b[1;32m    165\u001b[0m         \u001b[0;32mif\u001b[0m \u001b[0misinstance\u001b[0m\u001b[0;34m(\u001b[0m\u001b[0mpath\u001b[0m\u001b[0;34m,\u001b[0m \u001b[0mbasestring\u001b[0m\u001b[0;34m)\u001b[0m\u001b[0;34m:\u001b[0m\u001b[0;34m\u001b[0m\u001b[0;34m\u001b[0m\u001b[0m\n\u001b[0;32m--> 166\u001b[0;31m             \u001b[0;32mreturn\u001b[0m \u001b[0mself\u001b[0m\u001b[0;34m.\u001b[0m\u001b[0m_df\u001b[0m\u001b[0;34m(\u001b[0m\u001b[0mself\u001b[0m\u001b[0;34m.\u001b[0m\u001b[0m_jreader\u001b[0m\u001b[0;34m.\u001b[0m\u001b[0mload\u001b[0m\u001b[0;34m(\u001b[0m\u001b[0mpath\u001b[0m\u001b[0;34m)\u001b[0m\u001b[0;34m)\u001b[0m\u001b[0;34m\u001b[0m\u001b[0;34m\u001b[0m\u001b[0m\n\u001b[0m\u001b[1;32m    167\u001b[0m         \u001b[0;32melif\u001b[0m \u001b[0mpath\u001b[0m \u001b[0;32mis\u001b[0m \u001b[0;32mnot\u001b[0m \u001b[0;32mNone\u001b[0m\u001b[0;34m:\u001b[0m\u001b[0;34m\u001b[0m\u001b[0;34m\u001b[0m\u001b[0m\n\u001b[1;32m    168\u001b[0m             \u001b[0;32mif\u001b[0m \u001b[0mtype\u001b[0m\u001b[0;34m(\u001b[0m\u001b[0mpath\u001b[0m\u001b[0;34m)\u001b[0m \u001b[0;34m!=\u001b[0m \u001b[0mlist\u001b[0m\u001b[0;34m:\u001b[0m\u001b[0;34m\u001b[0m\u001b[0;34m\u001b[0m\u001b[0m\n",
      "\u001b[0;32m~/.local/lib/python3.6/site-packages/py4j/java_gateway.py\u001b[0m in \u001b[0;36m__call__\u001b[0;34m(self, *args)\u001b[0m\n\u001b[1;32m   1306\u001b[0m             \u001b[0mproto\u001b[0m\u001b[0;34m.\u001b[0m\u001b[0mEND_COMMAND_PART\u001b[0m\u001b[0;34m\u001b[0m\u001b[0;34m\u001b[0m\u001b[0m\n\u001b[1;32m   1307\u001b[0m \u001b[0;34m\u001b[0m\u001b[0m\n\u001b[0;32m-> 1308\u001b[0;31m         \u001b[0manswer\u001b[0m \u001b[0;34m=\u001b[0m \u001b[0mself\u001b[0m\u001b[0;34m.\u001b[0m\u001b[0mgateway_client\u001b[0m\u001b[0;34m.\u001b[0m\u001b[0msend_command\u001b[0m\u001b[0;34m(\u001b[0m\u001b[0mcommand\u001b[0m\u001b[0;34m)\u001b[0m\u001b[0;34m\u001b[0m\u001b[0;34m\u001b[0m\u001b[0m\n\u001b[0m\u001b[1;32m   1309\u001b[0m         return_value = get_return_value(\n\u001b[1;32m   1310\u001b[0m             answer, self.gateway_client, self.target_id, self.name)\n",
      "\u001b[0;32m~/.local/lib/python3.6/site-packages/py4j/java_gateway.py\u001b[0m in \u001b[0;36msend_command\u001b[0;34m(self, command, retry, binary)\u001b[0m\n\u001b[1;32m   1036\u001b[0m         \u001b[0mconnection\u001b[0m \u001b[0;34m=\u001b[0m \u001b[0mself\u001b[0m\u001b[0;34m.\u001b[0m\u001b[0m_get_connection\u001b[0m\u001b[0;34m(\u001b[0m\u001b[0;34m)\u001b[0m\u001b[0;34m\u001b[0m\u001b[0;34m\u001b[0m\u001b[0m\n\u001b[1;32m   1037\u001b[0m         \u001b[0;32mtry\u001b[0m\u001b[0;34m:\u001b[0m\u001b[0;34m\u001b[0m\u001b[0;34m\u001b[0m\u001b[0m\n\u001b[0;32m-> 1038\u001b[0;31m             \u001b[0mresponse\u001b[0m \u001b[0;34m=\u001b[0m \u001b[0mconnection\u001b[0m\u001b[0;34m.\u001b[0m\u001b[0msend_command\u001b[0m\u001b[0;34m(\u001b[0m\u001b[0mcommand\u001b[0m\u001b[0;34m)\u001b[0m\u001b[0;34m\u001b[0m\u001b[0;34m\u001b[0m\u001b[0m\n\u001b[0m\u001b[1;32m   1039\u001b[0m             \u001b[0;32mif\u001b[0m \u001b[0mbinary\u001b[0m\u001b[0;34m:\u001b[0m\u001b[0;34m\u001b[0m\u001b[0;34m\u001b[0m\u001b[0m\n\u001b[1;32m   1040\u001b[0m                 \u001b[0;32mreturn\u001b[0m \u001b[0mresponse\u001b[0m\u001b[0;34m,\u001b[0m \u001b[0mself\u001b[0m\u001b[0;34m.\u001b[0m\u001b[0m_create_connection_guard\u001b[0m\u001b[0;34m(\u001b[0m\u001b[0mconnection\u001b[0m\u001b[0;34m)\u001b[0m\u001b[0;34m\u001b[0m\u001b[0;34m\u001b[0m\u001b[0m\n",
      "\u001b[0;32m~/.local/lib/python3.6/site-packages/py4j/java_gateway.py\u001b[0m in \u001b[0;36msend_command\u001b[0;34m(self, command)\u001b[0m\n\u001b[1;32m   1203\u001b[0m \u001b[0;34m\u001b[0m\u001b[0m\n\u001b[1;32m   1204\u001b[0m         \u001b[0;32mtry\u001b[0m\u001b[0;34m:\u001b[0m\u001b[0;34m\u001b[0m\u001b[0;34m\u001b[0m\u001b[0m\n\u001b[0;32m-> 1205\u001b[0;31m             \u001b[0manswer\u001b[0m \u001b[0;34m=\u001b[0m \u001b[0msmart_decode\u001b[0m\u001b[0;34m(\u001b[0m\u001b[0mself\u001b[0m\u001b[0;34m.\u001b[0m\u001b[0mstream\u001b[0m\u001b[0;34m.\u001b[0m\u001b[0mreadline\u001b[0m\u001b[0;34m(\u001b[0m\u001b[0;34m)\u001b[0m\u001b[0;34m[\u001b[0m\u001b[0;34m:\u001b[0m\u001b[0;34m-\u001b[0m\u001b[0;36m1\u001b[0m\u001b[0;34m]\u001b[0m\u001b[0;34m)\u001b[0m\u001b[0;34m\u001b[0m\u001b[0;34m\u001b[0m\u001b[0m\n\u001b[0m\u001b[1;32m   1206\u001b[0m             \u001b[0mlogger\u001b[0m\u001b[0;34m.\u001b[0m\u001b[0mdebug\u001b[0m\u001b[0;34m(\u001b[0m\u001b[0;34m\"Answer received: {0}\"\u001b[0m\u001b[0;34m.\u001b[0m\u001b[0mformat\u001b[0m\u001b[0;34m(\u001b[0m\u001b[0manswer\u001b[0m\u001b[0;34m)\u001b[0m\u001b[0;34m)\u001b[0m\u001b[0;34m\u001b[0m\u001b[0;34m\u001b[0m\u001b[0m\n\u001b[1;32m   1207\u001b[0m             \u001b[0;32mif\u001b[0m \u001b[0manswer\u001b[0m\u001b[0;34m.\u001b[0m\u001b[0mstartswith\u001b[0m\u001b[0;34m(\u001b[0m\u001b[0mproto\u001b[0m\u001b[0;34m.\u001b[0m\u001b[0mRETURN_MESSAGE\u001b[0m\u001b[0;34m)\u001b[0m\u001b[0;34m:\u001b[0m\u001b[0;34m\u001b[0m\u001b[0;34m\u001b[0m\u001b[0m\n",
      "\u001b[0;32m/usr/lib/python3.6/socket.py\u001b[0m in \u001b[0;36mreadinto\u001b[0;34m(self, b)\u001b[0m\n\u001b[1;32m    584\u001b[0m         \u001b[0;32mwhile\u001b[0m \u001b[0;32mTrue\u001b[0m\u001b[0;34m:\u001b[0m\u001b[0;34m\u001b[0m\u001b[0;34m\u001b[0m\u001b[0m\n\u001b[1;32m    585\u001b[0m             \u001b[0;32mtry\u001b[0m\u001b[0;34m:\u001b[0m\u001b[0;34m\u001b[0m\u001b[0;34m\u001b[0m\u001b[0m\n\u001b[0;32m--> 586\u001b[0;31m                 \u001b[0;32mreturn\u001b[0m \u001b[0mself\u001b[0m\u001b[0;34m.\u001b[0m\u001b[0m_sock\u001b[0m\u001b[0;34m.\u001b[0m\u001b[0mrecv_into\u001b[0m\u001b[0;34m(\u001b[0m\u001b[0mb\u001b[0m\u001b[0;34m)\u001b[0m\u001b[0;34m\u001b[0m\u001b[0;34m\u001b[0m\u001b[0m\n\u001b[0m\u001b[1;32m    587\u001b[0m             \u001b[0;32mexcept\u001b[0m \u001b[0mtimeout\u001b[0m\u001b[0;34m:\u001b[0m\u001b[0;34m\u001b[0m\u001b[0;34m\u001b[0m\u001b[0m\n\u001b[1;32m    588\u001b[0m                 \u001b[0mself\u001b[0m\u001b[0;34m.\u001b[0m\u001b[0m_timeout_occurred\u001b[0m \u001b[0;34m=\u001b[0m \u001b[0;32mTrue\u001b[0m\u001b[0;34m\u001b[0m\u001b[0;34m\u001b[0m\u001b[0m\n",
      "\u001b[0;31mKeyboardInterrupt\u001b[0m: "
     ]
    }
   ],
   "source": [
    "movie_df = (spark\n",
    "           .read\n",
    "           .format(\"csv\")\n",
    "           .option(\"header\", \"true\")\n",
    "           .option(\"delimiter\", \",\")\n",
    "           .option(\"inferSchema\", \"true\")\n",
    "           .load(\"datasets/movie.csv\")\n",
    "           )"
   ]
  },
  {
   "cell_type": "code",
   "execution_count": null,
   "id": "7229b26c",
   "metadata": {},
   "outputs": [],
   "source": [
    "movie_df.printSchema()"
   ]
  },
  {
   "cell_type": "code",
   "execution_count": null,
   "id": "24ea2515",
   "metadata": {},
   "outputs": [],
   "source": [
    "movie_df.show(5)"
   ]
  },
  {
   "cell_type": "markdown",
   "id": "4d0bdd23",
   "metadata": {},
   "source": [
    "### Rating Dataframe"
   ]
  },
  {
   "cell_type": "code",
   "execution_count": null,
   "id": "ad6ae512",
   "metadata": {},
   "outputs": [],
   "source": [
    "rating_df = (spark\n",
    "            .read\n",
    "            .format(\"csv\")\n",
    "            .option(\"header\", \"true\")\n",
    "            .option(\"delimiter\", \",\")\n",
    "            .option(\"inferSchema\", \"true\")\n",
    "            .load(\"datasets/rating.csv\")\n",
    "            )"
   ]
  },
  {
   "cell_type": "code",
   "execution_count": null,
   "id": "2ca221dd",
   "metadata": {},
   "outputs": [],
   "source": [
    "rating_df.printSchema()"
   ]
  },
  {
   "cell_type": "code",
   "execution_count": null,
   "id": "169faf21",
   "metadata": {},
   "outputs": [],
   "source": [
    "rating_df.show(5)"
   ]
  },
  {
   "cell_type": "markdown",
   "id": "6e682663",
   "metadata": {},
   "source": [
    "### Tag Dataframe"
   ]
  },
  {
   "cell_type": "code",
   "execution_count": null,
   "id": "382ffb43",
   "metadata": {},
   "outputs": [],
   "source": [
    "tag_df = (spark\n",
    "         .read\n",
    "         .format(\"csv\")\n",
    "         .option(\"header\", \"true\")\n",
    "         .option(\"delimiter\", \",\")\n",
    "         .option(\"inferSchema\", \"true\") \n",
    "         .load(\"datasets/tag.csv\")\n",
    "         )"
   ]
  },
  {
   "cell_type": "code",
   "execution_count": null,
   "id": "db52efe2",
   "metadata": {},
   "outputs": [],
   "source": [
    "tag_df.printSchema()"
   ]
  },
  {
   "cell_type": "code",
   "execution_count": null,
   "id": "2e94c581",
   "metadata": {},
   "outputs": [],
   "source": [
    "tag_df.show(5)"
   ]
  },
  {
   "cell_type": "markdown",
   "id": "d91b87b7",
   "metadata": {},
   "source": [
    "## Queries"
   ]
  },
  {
   "cell_type": "markdown",
   "id": "07484e61",
   "metadata": {},
   "source": [
    "### Query 1"
   ]
  },
  {
   "cell_type": "code",
   "execution_count": null,
   "id": "4b573c08",
   "metadata": {},
   "outputs": [],
   "source": [
    "# Start measuring performance\n",
    "stagemetrics.begin()\n",
    "\n",
    "# Get the id of the movie \"Jumanji\"\n",
    "jumanji_id = movie_df \\\n",
    "            .filter(movie_df.title.contains(\"Jumanji\")) \\\n",
    "            .select(\"movieId\") \\\n",
    "            .collect()[0][\"movieId\"]\n",
    "\n",
    "# Get the number of users that watched \"Jumanji\"\n",
    "query_1_result = rating_df \\\n",
    "                .filter(rating_df[\"movieId\"] == jumanji_id) \\\n",
    "                .select(count(\"movieId\"))\n",
    "\n",
    "# Show result\n",
    "query_1_result.show()\n",
    "\n",
    "# Stop measuring performance\n",
    "stagemetrics.end()\n",
    "\n",
    "# Print performance metrics\n",
    "print(stagemetrics.report().split('\\n')[6])"
   ]
  },
  {
   "cell_type": "markdown",
   "id": "75658047",
   "metadata": {},
   "source": [
    "### Query 2"
   ]
  },
  {
   "cell_type": "code",
   "execution_count": null,
   "id": "621372b4",
   "metadata": {},
   "outputs": [],
   "source": [
    "# Start measuring performance\n",
    "stagemetrics.begin()\n",
    "\n",
    "# Get the movieIds with tags containing the word \"boring\"\n",
    "unique_boring_movieIds = tag_df \\\n",
    "                        .filter(lower(tag_df[\"tag\"]).contains(\"boring\")) \\\n",
    "                        .select(\"movieId\") \\\n",
    "                        .dropDuplicates()\n",
    "\n",
    "# Get the corresponding movie titles from movieIds in alphabetical order\n",
    "query_2_results = unique_boring_movieIds \\\n",
    "                 .join(movie_df, \"movieId\", \"inner\") \\\n",
    "                 .select(movie_df.title) \\\n",
    "                 .sort(movie_df.title)\n",
    "\n",
    "# Show results\n",
    "query_2_results.show()\n",
    "\n",
    "# Stop measuring performance\n",
    "stagemetrics.end()\n",
    "\n",
    "# Print performance metrics\n",
    "print(stagemetrics.report().split('\\n')[6])"
   ]
  },
  {
   "cell_type": "markdown",
   "id": "33cb638d",
   "metadata": {},
   "source": [
    "### Query 3"
   ]
  },
  {
   "cell_type": "code",
   "execution_count": null,
   "id": "c4541857",
   "metadata": {},
   "outputs": [],
   "source": [
    "# Start measuring performance\n",
    "stagemetrics.begin()\n",
    "\n",
    "# Get the userIds and movieIds with tags containing the word \"bollywood\"\n",
    "bollywood_userIds_movieIds = tag_df \\\n",
    "                            .filter(lower(tag_df[\"tag\"]).contains(\"bollywood\")) \\\n",
    "                            .select([\"userId\", \"movieId\", \"tag\"])\n",
    "\n",
    "# Get all userIds and movieIds with rating above 3\n",
    "above_3_rating = rating_df \\\n",
    "                .filter(rating_df.rating > 3) \\\n",
    "                .select([\"userId\", \"movieId\", \"rating\"])\n",
    "\n",
    "# Inner join based on unique combination of userId and movieId\n",
    "query_3_results = bollywood_userIds_movieIds \\\n",
    "                 .join(above_3_rating, [\"userId\", \"movieId\"], \"inner\") \\\n",
    "                 .select(\"userId\") \\\n",
    "                 .dropDuplicates() \\\n",
    "                 .sort(above_3_rating.userId)\n",
    "\n",
    "# Show results\n",
    "query_3_results.show()\n",
    "\n",
    "# Stop measuring performance\n",
    "stagemetrics.end()\n",
    "\n",
    "# Print performance metrics\n",
    "print(stagemetrics.report().split('\\n')[6])"
   ]
  },
  {
   "cell_type": "markdown",
   "id": "486d028c",
   "metadata": {},
   "source": [
    " ### Query 4"
   ]
  },
  {
   "cell_type": "code",
   "execution_count": null,
   "id": "4eb0a8e3",
   "metadata": {
    "scrolled": false
   },
   "outputs": [],
   "source": [
    "# Start measuring performance\n",
    "stagemetrics.begin()\n",
    "\n",
    "# Group by year and movieId and find the mean value of rating\n",
    "grouped_data = rating_df \\\n",
    "              .withColumn(\"year\", year(rating_df[\"timestamp\"])) \\\n",
    "              .groupBy([\"year\", \"movieId\"]) \\\n",
    "              .agg({\"rating\": \"mean\"})\n",
    "              \n",
    "# Create a window to limit ratings\n",
    "window = Window \\\n",
    "        .partitionBy(grouped_data[\"year\"]) \\\n",
    "        .orderBy(grouped_data[\"avg(rating)\"] \\\n",
    "        .desc())\n",
    "\n",
    "# Limit the ratings in each group\n",
    "grouped_data_limited = grouped_data \\\n",
    "                      .select('*', row_number().over(window).alias('row_number')) \\\n",
    "                      .filter(col('row_number') <= 10) \\\n",
    "                      .sort([\"year\", \"avg(rating)\"], ascending = [True, False])\n",
    "\n",
    "# Get the movie titles\n",
    "query_4_results = grouped_data_limited \\\n",
    "                 .join(movie_df, \"movieId\", \"inner\") \\\n",
    "                 .select([\"year\", \"title\", \"avg(rating)\"]) \\\n",
    "                 .withColumnRenamed(\"avg(rating)\", \"average_rating\")\n",
    "\n",
    "# Show results\n",
    "query_4_results.show()\n",
    "\n",
    "# Stop measuring performance\n",
    "stagemetrics.end()\n",
    "\n",
    "# Print performance metrics\n",
    "print(stagemetrics.report().split('\\n')[6])"
   ]
  },
  {
   "cell_type": "markdown",
   "id": "0558a87e",
   "metadata": {},
   "source": [
    "### Query 5"
   ]
  },
  {
   "cell_type": "code",
   "execution_count": null,
   "id": "afcc58a2",
   "metadata": {},
   "outputs": [],
   "source": [
    "# Start measuring performance\n",
    "stagemetrics.begin()\n",
    "\n",
    "# Get the id and title of 2015 movies\n",
    "movies_2015 = movie_df \\\n",
    "             .filter(movie_df.title.contains(\"(2015)\")) \\\n",
    "             .select([\"movieId\", \"title\"])\n",
    "\n",
    "# Get the tags of 2015 movies\n",
    "joined = movies_2015 \\\n",
    "        .join(tag_df, \"movieId\", \"inner\") \\\n",
    "        .select([\"title\", \"tag\"]) \\\n",
    "        .sort(\"title\")\n",
    "\n",
    "# Group tags by movie title and concatenate them\n",
    "query_5_results = joined \\\n",
    "                 .groupby(\"title\") \\\n",
    "                 .agg(concat_ws(\", \", collect_list(joined.tag)).alias(\"tags\"))\n",
    "\n",
    "# Show results\n",
    "query_5_results.show()\n",
    "\n",
    "# Stop measuring performance\n",
    "stagemetrics.end()\n",
    "\n",
    "# Print performance metrics\n",
    "print(stagemetrics.report().split('\\n')[6])"
   ]
  },
  {
   "cell_type": "markdown",
   "id": "df2199ec",
   "metadata": {},
   "source": [
    "### Query 6"
   ]
  },
  {
   "cell_type": "code",
   "execution_count": null,
   "id": "d6e03435",
   "metadata": {},
   "outputs": [],
   "source": [
    "# Start measuring performance\n",
    "stagemetrics.begin()\n",
    "\n",
    "# Group rating by movieId and get movie title from inner join\n",
    "query_6_results = rating_df \\\n",
    "                 .groupBy(\"movieId\") \\\n",
    "                 .agg({\"rating\": \"count\"}) \\\n",
    "                 .join(movie_df, \"movieId\", \"inner\") \\\n",
    "                 .select([\"title\", \"count(rating)\"]) \\\n",
    "                 .sort(\"count(rating)\", ascending=False) \\\n",
    "                 .withColumnRenamed(\"count(rating)\", \"total_ratings\")\n",
    "\n",
    "# Show results\n",
    "query_6_results.show()\n",
    "\n",
    "# Stop measuring performance\n",
    "stagemetrics.end()\n",
    "\n",
    "# Print performance metrics\n",
    "print(stagemetrics.report().split('\\n')[6])"
   ]
  },
  {
   "cell_type": "markdown",
   "id": "200b4d44",
   "metadata": {},
   "source": [
    "### Query 7"
   ]
  },
  {
   "cell_type": "code",
   "execution_count": null,
   "id": "b67fd124",
   "metadata": {},
   "outputs": [],
   "source": [
    "# Start measuring performance\n",
    "stagemetrics.begin()\n",
    "\n",
    "# Group by year and userId and count the ratings for each group\n",
    "grouped_data = rating_df \\\n",
    "              .withColumn(\"year\", year(rating_df[\"timestamp\"])) \\\n",
    "              .groupBy([\"year\", \"userId\"]) \\\n",
    "              .agg({\"rating\": \"count\"})\n",
    "\n",
    "# Create a window to limit ratings\n",
    "window = Window \\\n",
    "        .partitionBy(grouped_data[\"year\"]) \\\n",
    "        .orderBy(grouped_data[\"count(rating)\"] \\\n",
    "        .desc())\n",
    "\n",
    "# Limit the ratings in each group\n",
    "query_7_results = grouped_data \\\n",
    "                 .select('*', row_number().over(window).alias('row_number')) \\\n",
    "                 .filter(col('row_number') <= 10) \\\n",
    "                 .select([\"year\", \"userId\", \"count(rating)\"]) \\\n",
    "                 .sort([\"year\", \"count(rating)\"], ascending = [True, False]) \\\n",
    "                 .withColumnRenamed(\"count(rating)\", \"total_ratings\")\n",
    "\n",
    "# Show results\n",
    "query_7_results.show()\n",
    "\n",
    "# Stop measuring performance\n",
    "stagemetrics.end()\n",
    "\n",
    "# Print performance metrics\n",
    "print(stagemetrics.report().split('\\n')[6])"
   ]
  },
  {
   "cell_type": "markdown",
   "id": "10c738e7",
   "metadata": {},
   "source": [
    "### Query 8"
   ]
  },
  {
   "cell_type": "code",
   "execution_count": null,
   "id": "3b8a409e",
   "metadata": {},
   "outputs": [],
   "source": [
    "# Start measuring performance\n",
    "stagemetrics.begin()\n",
    "\n",
    "# Keep the first genre of each movie\n",
    "first_genre = movie_df \\\n",
    "             .select('*', split(movie_df.genres, '[|]')[0].alias(\"genre\")) \\\n",
    "             .drop(\"genres\")\n",
    "\n",
    "# Get total ratings by movie\n",
    "total_ratings_by_movie = first_genre \\\n",
    "                        .join(rating_df, \"movieId\", \"inner\") \\\n",
    "                        .groupBy([\"genre\", \"title\"]) \\\n",
    "                        .agg({\"*\": \"count\"}) \\\n",
    "                        .withColumnRenamed(\"count(1)\", \"total_ratings\")\n",
    "\n",
    "# Create a window to limit total ratings\n",
    "window = Window \\\n",
    "        .partitionBy(total_ratings_by_movie[\"genre\"]) \\\n",
    "        .orderBy(total_ratings_by_movie[\"total_ratings\"] \\\n",
    "        .desc())\n",
    "\n",
    "# Limit the total ratings in each group\n",
    "query_8_results = total_ratings_by_movie \\\n",
    "                 .select('*', row_number().over(window).alias('row_number')) \\\n",
    "                 .filter(col('row_number') <= 1) \\\n",
    "                 .select([\"genre\", \"title\", \"total_ratings\"]) \\\n",
    "                 .sort([\"genre\"]) \\\n",
    "                 .filter(total_ratings_by_movie.genre != \"(no genres listed)\")\n",
    "\n",
    "# Show results\n",
    "query_8_results.show()\n",
    "\n",
    "# Stop measuring performance\n",
    "stagemetrics.end()\n",
    "\n",
    "# Print performance metrics\n",
    "print(stagemetrics.report().split('\\n')[6])"
   ]
  },
  {
   "cell_type": "markdown",
   "id": "df38c1c5",
   "metadata": {},
   "source": [
    "### Query 9"
   ]
  },
  {
   "cell_type": "code",
   "execution_count": null,
   "id": "dc1c6efb",
   "metadata": {},
   "outputs": [],
   "source": [
    "# Start measuring performance\n",
    "stagemetrics.begin()\n",
    "\n",
    "# Group by year, month, day of month, hour and movieId and find the concurrent viewers for each movie\n",
    "grouped_data = rating_df \\\n",
    "              .withColumn(\"year\", year(rating_df[\"timestamp\"])) \\\n",
    "              .withColumn(\"month\", month(rating_df[\"timestamp\"])) \\\n",
    "              .withColumn(\"dayofmonth\", dayofmonth(rating_df[\"timestamp\"])) \\\n",
    "              .withColumn(\"hour\", hour(rating_df[\"timestamp\"])) \\\n",
    "              .groupBy([\"movieId\",\"year\", \"month\", \"dayofmonth\", \"hour\"]) \\\n",
    "              .agg({\"*\": \"count\"}) \\\n",
    "              .withColumnRenamed(\"count(1)\", \"concurrent_viewers\") \\\n",
    "              .filter(col(\"concurrent_viewers\") > 1)\n",
    "\n",
    "# Get the sum of concurrent viewers\n",
    "query_9_result = grouped_data.select(sum(\"concurrent_viewers\"))\n",
    "\n",
    "# Show result\n",
    "query_9_result.show()\n",
    "\n",
    "# Stop measuring performance\n",
    "stagemetrics.end()\n",
    "\n",
    "# Print performance metrics\n",
    "print(stagemetrics.report().split('\\n')[6])"
   ]
  },
  {
   "cell_type": "markdown",
   "id": "054c3382",
   "metadata": {},
   "source": [
    "### Query 10"
   ]
  },
  {
   "cell_type": "code",
   "execution_count": null,
   "id": "1d1d84eb",
   "metadata": {},
   "outputs": [],
   "source": [
    "# Start measuring performance\n",
    "stagemetrics.begin()\n",
    "\n",
    "# Keep the first genre of each movie\n",
    "first_genre = movie_df \\\n",
    "             .select('*', split(movie_df.genres, '[|]')[0].alias(\"genre\")) \\\n",
    "             .drop(\"genres\")\n",
    "\n",
    "# Keep movies that are tagged as \"funny\"\n",
    "funny_movies = first_genre \\\n",
    "              .join(tag_df, \"movieId\", \"inner\") \\\n",
    "              .filter(lower(tag_df[\"tag\"]).contains(\"funny\")) \\\n",
    "              .select(\"movieId\", \"tag\", \"genre\") \\\n",
    "              .dropDuplicates([\"movieId\"])\n",
    "\n",
    "# Keep movies that are rated above 3.5\n",
    "good_movies = first_genre \\\n",
    "             .join(rating_df, \"movieId\", \"inner\") \\\n",
    "             .groupBy(\"movieId\") \\\n",
    "             .agg({\"rating\": \"mean\"}) \\\n",
    "             .withColumnRenamed(\"avg(rating)\", \"average_rating\") \\\n",
    "             .filter(col(\"average_rating\") > 3.5) \\\n",
    "             .select(\"movieId\", \"average_rating\")\n",
    "\n",
    "# Keep movies that are tagged as \"funny\" and are rated above 3.5 and group them by genre\n",
    "query_10_results = funny_movies \\\n",
    "                  .join(good_movies, \"movieId\", \"inner\") \\\n",
    "                  .groupBy(\"genre\") \\\n",
    "                  .agg({\"*\": \"count\"}) \\\n",
    "                  .withColumnRenamed(\"count(1)\", \"total_movies\") \\\n",
    "                  .sort(\"genre\") \\\n",
    "                  .select(\"genre\", \"total_movies\")\n",
    "\n",
    "# Show results\n",
    "query_10_results.show()\n",
    "\n",
    "# Stop measuring performance\n",
    "stagemetrics.end()\n",
    "\n",
    "# Print performance metrics\n",
    "print(stagemetrics.report().split('\\n')[6])"
   ]
  },
  {
   "cell_type": "code",
   "execution_count": null,
   "id": "95b6c5fe",
   "metadata": {},
   "outputs": [],
   "source": []
  }
 ],
 "metadata": {
  "kernelspec": {
   "display_name": "Python 3",
   "language": "python",
   "name": "python3"
  },
  "language_info": {
   "codemirror_mode": {
    "name": "ipython",
    "version": 3
   },
   "file_extension": ".py",
   "mimetype": "text/x-python",
   "name": "python",
   "nbconvert_exporter": "python",
   "pygments_lexer": "ipython3",
   "version": "3.6.9"
  }
 },
 "nbformat": 4,
 "nbformat_minor": 5
}
