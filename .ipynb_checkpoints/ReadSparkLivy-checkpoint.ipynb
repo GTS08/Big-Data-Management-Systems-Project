{
 "cells": [
  {
   "cell_type": "code",
   "execution_count": 123,
   "id": "46dff3a4",
   "metadata": {},
   "outputs": [],
   "source": [
    "import json, pprint, requests, textwrap, time\n",
    "host = 'http://150.140.142.92:8998'"
   ]
  },
  {
   "cell_type": "code",
   "execution_count": 124,
   "id": "6f642cdc",
   "metadata": {},
   "outputs": [
    {
     "name": "stdout",
     "output_type": "stream",
     "text": [
      "Waiting... active sesssions:  0\n",
      "Good to go!\n"
     ]
    }
   ],
   "source": [
    "#get number of sessions\n",
    "headers = {'Content-Type': 'application/json'}\n",
    "r = requests.get(host+'/sessions', headers=headers)\n",
    "con_var=r.json()['total']\n",
    "print (\"Waiting... active sesssions: \", con_var)\n",
    "while con_var!=0:\n",
    "    r = requests.get(host+'/sessions', headers=headers)\n",
    "    con_var=r.json()['total']\n",
    "    print (\"Waiting... active sesssions: \", con_var)\n",
    "    time.sleep(60)\n",
    "print (\"Good to go!\")"
   ]
  },
  {
   "cell_type": "code",
   "execution_count": 125,
   "id": "82385ffb",
   "metadata": {},
   "outputs": [
    {
     "data": {
      "text/plain": [
       "{'id': 167,\n",
       " 'name': 'EimasteSto8SigouliaSigoulia',\n",
       " 'appId': None,\n",
       " 'owner': None,\n",
       " 'proxyUser': None,\n",
       " 'state': 'starting',\n",
       " 'kind': 'pyspark',\n",
       " 'appInfo': {'driverLogUrl': None, 'sparkUiUrl': None},\n",
       " 'log': ['stdout: ', '\\nstderr: ']}"
      ]
     },
     "execution_count": 125,
     "metadata": {},
     "output_type": "execute_result"
    }
   ],
   "source": [
    "#create new session - DON'T DO THIS IF THERE ARE OTHER ACTIVE SESSIONS!\n",
    "data = {'kind': 'pyspark',\\\n",
    "        'name':'EimasteSto8SigouliaSigoulia', #,\n",
    "        'conf':{\n",
    "            'master':'spark://localhost:7077'}\\\n",
    "       }#, 'heartbeatTimeoutInSecond':240}\n",
    "\n",
    "r = requests.post(host + '/sessions', data=json.dumps(data), headers=headers)\n",
    "r.json()"
   ]
  },
  {
   "cell_type": "code",
   "execution_count": 126,
   "id": "f48d078d",
   "metadata": {},
   "outputs": [
    {
     "data": {
      "text/plain": [
       "{'id': 167,\n",
       " 'name': 'EimasteSto8SigouliaSigoulia',\n",
       " 'appId': None,\n",
       " 'owner': None,\n",
       " 'proxyUser': None,\n",
       " 'state': 'starting',\n",
       " 'kind': 'pyspark',\n",
       " 'appInfo': {'driverLogUrl': None, 'sparkUiUrl': None},\n",
       " 'log': ['stdout: ',\n",
       "  '\\nstderr: ',\n",
       "  '21/06/04 14:01:10 WARN Utils: Your hostname, administrator-OptiPlex-390 resolves to a loopback address: 127.0.1.1; using 150.140.142.92 instead (on interface enp4s0)',\n",
       "  '21/06/04 14:01:10 WARN Utils: Set SPARK_LOCAL_IP if you need to bind to another address',\n",
       "  '21/06/04 14:01:10 WARN NativeCodeLoader: Unable to load native-hadoop library for your platform... using builtin-java classes where applicable',\n",
       "  'log4j:WARN No appenders could be found for logger (io.netty.util.internal.logging.InternalLoggerFactory).',\n",
       "  'log4j:WARN Please initialize the log4j system properly.',\n",
       "  'log4j:WARN See http://logging.apache.org/log4j/1.2/faq.html#noconfig for more info.']}"
      ]
     },
     "execution_count": 126,
     "metadata": {},
     "output_type": "execute_result"
    }
   ],
   "source": [
    "#get session information\n",
    "session_url = host + r.headers['location']\n",
    "r = requests.get(session_url, headers=headers)\n",
    "r.json()\n"
   ]
  },
  {
   "cell_type": "code",
   "execution_count": 127,
   "id": "18558b65",
   "metadata": {},
   "outputs": [
    {
     "name": "stdout",
     "output_type": "stream",
     "text": [
      "Job is starting\n",
      "Job is idle\n",
      "Good to go!\n"
     ]
    }
   ],
   "source": [
    "#show session state, repeat until idle to proceed with code submission\n",
    "state_url = session_url + '/state'\n",
    "con_var=\"..\"\n",
    "while con_var!=\"idle\":\n",
    "    r = requests.get(state_url, headers=headers)\n",
    "    con_var = r.json()['state']\n",
    "    print(\"Job is %s\" % r.json()['state'])\n",
    "    time.sleep(10)\n",
    "print (\"Good to go!\")"
   ]
  },
  {
   "cell_type": "code",
   "execution_count": 143,
   "id": "ed5477de",
   "metadata": {},
   "outputs": [],
   "source": [
    "#send some python statements for execution\n",
    "codefile = open('q10.py', 'r')\n",
    "code = codefile.read()\n",
    "codefile.close()\n",
    "data = {\n",
    "    'kind': 'pyspark',\n",
    "    'code': textwrap.dedent(code)\n",
    "}\n",
    "\n",
    "statement_url = session_url+'/statements'\n",
    "r = requests.post(statement_url, data=json.dumps(data), headers=headers)"
   ]
  },
  {
   "cell_type": "code",
   "execution_count": 144,
   "id": "d10b162f",
   "metadata": {},
   "outputs": [
    {
     "name": "stdout",
     "output_type": "stream",
     "text": [
      "Job is busy\n",
      "Job is busy\n",
      "Job is idle\n",
      "Good to go!\n"
     ]
    }
   ],
   "source": [
    "#show session state, repeat until idle to proceed with result extraction\n",
    "state_url = session_url + '/state'\n",
    "con_var=\"..\"\n",
    "while con_var!=\"idle\":\n",
    "    r = requests.get(state_url, headers=headers)\n",
    "    con_var = r.json()['state']\n",
    "    print(\"Job is %s\" % r.json()['state'])\n",
    "    time.sleep(10)\n",
    "print (\"Good to go!\")"
   ]
  },
  {
   "cell_type": "code",
   "execution_count": 145,
   "id": "0d52fa6e",
   "metadata": {},
   "outputs": [
    {
     "name": "stdout",
     "output_type": "stream",
     "text": [
      "http://150.140.142.92:8998/sessions/167/statements\n",
      "Job completed\n",
      "Total Time 14622 ms\n"
     ]
    }
   ],
   "source": [
    "#get stats from the latest statement in the session\n",
    "statements_url = session_url + '/statements'\n",
    "print(statements_url)\n",
    "r = requests.get(statements_url, headers=headers)\n",
    "slist = r.json()\n",
    "last_statement = slist['statements'][slist['total_statements']-1]\n",
    "if last_statement['progress']==1:\n",
    "    print (\"Job completed\")\n",
    "\n",
    "print(\"Total Time %s ms\" % (last_statement['completed'] - last_statement['started']))"
   ]
  },
  {
   "cell_type": "code",
   "execution_count": 21,
   "id": "d47c0e8e",
   "metadata": {},
   "outputs": [
    {
     "name": "stdout",
     "output_type": "stream",
     "text": [
      "Lisa Gardner\n"
     ]
    }
   ],
   "source": [
    "#get last statement output\n",
    "output = last_statement['output']\n",
    "if output['status']==\"error\":\n",
    "    pprint.pprint(output['traceback'])\n",
    "else:\n",
    "    fres = output['data']['text/plain'].replace(\"'\",\"\")\n",
    "    #pprint.pprint(output['data']['text/plain'])\n",
    "    fres = json.loads(fres)\n",
    "print(fres[0]['author'])"
   ]
  },
  {
   "cell_type": "code",
   "execution_count": 22,
   "id": "8ef8d6d7",
   "metadata": {},
   "outputs": [
    {
     "name": "stdout",
     "output_type": "stream",
     "text": [
      "{'msg': 'deleted'}\n"
     ]
    }
   ],
   "source": [
    "#close the session\n",
    "r = requests.delete(session_url, headers=headers)\n",
    "pprint.pprint(r.json())"
   ]
  },
  {
   "cell_type": "code",
   "execution_count": 122,
   "id": "4de06a9e",
   "metadata": {},
   "outputs": [
    {
     "name": "stdout",
     "output_type": "stream",
     "text": [
      "{'msg': 'deleted'}\n"
     ]
    }
   ],
   "source": [
    "#close an arbitrary session\n",
    "sessionid = 167\n",
    "r = requests.delete(\"http://150.140.142.92:8998/sessions/\"+str(sessionid), headers={'Content-Type': 'application/json'})\n",
    "pprint.pprint(r.json())"
   ]
  },
  {
   "cell_type": "code",
   "execution_count": null,
   "id": "e3329212",
   "metadata": {},
   "outputs": [],
   "source": []
  }
 ],
 "metadata": {
  "kernelspec": {
   "display_name": "Python 3",
   "language": "python",
   "name": "python3"
  },
  "language_info": {
   "codemirror_mode": {
    "name": "ipython",
    "version": 3
   },
   "file_extension": ".py",
   "mimetype": "text/x-python",
   "name": "python",
   "nbconvert_exporter": "python",
   "pygments_lexer": "ipython3",
   "version": "3.6.9"
  }
 },
 "nbformat": 4,
 "nbformat_minor": 5
}
